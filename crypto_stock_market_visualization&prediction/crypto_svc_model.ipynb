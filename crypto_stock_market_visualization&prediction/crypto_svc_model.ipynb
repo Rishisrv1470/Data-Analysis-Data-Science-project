{
 "cells": [
  {
   "cell_type": "code",
   "execution_count": 1,
   "id": "c8f62297",
   "metadata": {},
   "outputs": [],
   "source": [
    "import pandas as pd\n",
    "import numpy as np\n",
    "import matplotlib.pyplot as plt"
   ]
  },
  {
   "cell_type": "code",
   "execution_count": 2,
   "id": "6a417239",
   "metadata": {},
   "outputs": [],
   "source": [
    "df=pd.read_csv('crypto.csv')"
   ]
  },
  {
   "cell_type": "code",
   "execution_count": 3,
   "id": "9f1f8423",
   "metadata": {},
   "outputs": [
    {
     "data": {
      "text/html": [
       "<div>\n",
       "<style scoped>\n",
       "    .dataframe tbody tr th:only-of-type {\n",
       "        vertical-align: middle;\n",
       "    }\n",
       "\n",
       "    .dataframe tbody tr th {\n",
       "        vertical-align: top;\n",
       "    }\n",
       "\n",
       "    .dataframe thead th {\n",
       "        text-align: right;\n",
       "    }\n",
       "</style>\n",
       "<table border=\"1\" class=\"dataframe\">\n",
       "  <thead>\n",
       "    <tr style=\"text-align: right;\">\n",
       "      <th></th>\n",
       "      <th>Date</th>\n",
       "      <th>Open</th>\n",
       "      <th>High</th>\n",
       "      <th>Low</th>\n",
       "      <th>Close</th>\n",
       "      <th>Adj Close</th>\n",
       "      <th>Volume</th>\n",
       "    </tr>\n",
       "  </thead>\n",
       "  <tbody>\n",
       "    <tr>\n",
       "      <th>0</th>\n",
       "      <td>2022-05-31</td>\n",
       "      <td>694.754028</td>\n",
       "      <td>701.932983</td>\n",
       "      <td>682.754028</td>\n",
       "      <td>689.843994</td>\n",
       "      <td>689.843994</td>\n",
       "      <td>0</td>\n",
       "    </tr>\n",
       "    <tr>\n",
       "      <th>1</th>\n",
       "      <td>2022-06-01</td>\n",
       "      <td>643.786011</td>\n",
       "      <td>647.442017</td>\n",
       "      <td>642.570007</td>\n",
       "      <td>647.283997</td>\n",
       "      <td>647.283997</td>\n",
       "      <td>0</td>\n",
       "    </tr>\n",
       "    <tr>\n",
       "      <th>2</th>\n",
       "      <td>2022-06-02</td>\n",
       "      <td>659.184998</td>\n",
       "      <td>664.513000</td>\n",
       "      <td>658.841003</td>\n",
       "      <td>663.142029</td>\n",
       "      <td>663.142029</td>\n",
       "      <td>0</td>\n",
       "    </tr>\n",
       "    <tr>\n",
       "      <th>3</th>\n",
       "      <td>2022-06-03</td>\n",
       "      <td>659.184998</td>\n",
       "      <td>665.189026</td>\n",
       "      <td>636.864014</td>\n",
       "      <td>641.577026</td>\n",
       "      <td>641.577026</td>\n",
       "      <td>0</td>\n",
       "    </tr>\n",
       "    <tr>\n",
       "      <th>4</th>\n",
       "      <td>2022-06-06</td>\n",
       "      <td>651.463989</td>\n",
       "      <td>687.705994</td>\n",
       "      <td>649.588013</td>\n",
       "      <td>677.197998</td>\n",
       "      <td>677.197998</td>\n",
       "      <td>0</td>\n",
       "    </tr>\n",
       "    <tr>\n",
       "      <th>...</th>\n",
       "      <td>...</td>\n",
       "      <td>...</td>\n",
       "      <td>...</td>\n",
       "      <td>...</td>\n",
       "      <td>...</td>\n",
       "      <td>...</td>\n",
       "      <td>...</td>\n",
       "    </tr>\n",
       "    <tr>\n",
       "      <th>247</th>\n",
       "      <td>2023-05-24</td>\n",
       "      <td>585.127014</td>\n",
       "      <td>586.038025</td>\n",
       "      <td>584.374023</td>\n",
       "      <td>585.442993</td>\n",
       "      <td>585.442993</td>\n",
       "      <td>0</td>\n",
       "    </tr>\n",
       "    <tr>\n",
       "      <th>248</th>\n",
       "      <td>2023-05-25</td>\n",
       "      <td>587.317017</td>\n",
       "      <td>587.458984</td>\n",
       "      <td>586.687988</td>\n",
       "      <td>586.687988</td>\n",
       "      <td>586.687988</td>\n",
       "      <td>0</td>\n",
       "    </tr>\n",
       "    <tr>\n",
       "      <th>249</th>\n",
       "      <td>2023-05-26</td>\n",
       "      <td>587.317017</td>\n",
       "      <td>596.750977</td>\n",
       "      <td>584.856018</td>\n",
       "      <td>594.825989</td>\n",
       "      <td>594.825989</td>\n",
       "      <td>0</td>\n",
       "    </tr>\n",
       "    <tr>\n",
       "      <th>250</th>\n",
       "      <td>2023-05-30</td>\n",
       "      <td>615.893982</td>\n",
       "      <td>615.979004</td>\n",
       "      <td>614.624023</td>\n",
       "      <td>615.942017</td>\n",
       "      <td>615.942017</td>\n",
       "      <td>0</td>\n",
       "    </tr>\n",
       "    <tr>\n",
       "      <th>251</th>\n",
       "      <td>2023-05-31</td>\n",
       "      <td>614.093994</td>\n",
       "      <td>614.467529</td>\n",
       "      <td>600.793823</td>\n",
       "      <td>602.671570</td>\n",
       "      <td>602.671570</td>\n",
       "      <td>0</td>\n",
       "    </tr>\n",
       "  </tbody>\n",
       "</table>\n",
       "<p>252 rows × 7 columns</p>\n",
       "</div>"
      ],
      "text/plain": [
       "           Date        Open        High         Low       Close   Adj Close  \\\n",
       "0    2022-05-31  694.754028  701.932983  682.754028  689.843994  689.843994   \n",
       "1    2022-06-01  643.786011  647.442017  642.570007  647.283997  647.283997   \n",
       "2    2022-06-02  659.184998  664.513000  658.841003  663.142029  663.142029   \n",
       "3    2022-06-03  659.184998  665.189026  636.864014  641.577026  641.577026   \n",
       "4    2022-06-06  651.463989  687.705994  649.588013  677.197998  677.197998   \n",
       "..          ...         ...         ...         ...         ...         ...   \n",
       "247  2023-05-24  585.127014  586.038025  584.374023  585.442993  585.442993   \n",
       "248  2023-05-25  587.317017  587.458984  586.687988  586.687988  586.687988   \n",
       "249  2023-05-26  587.317017  596.750977  584.856018  594.825989  594.825989   \n",
       "250  2023-05-30  615.893982  615.979004  614.624023  615.942017  615.942017   \n",
       "251  2023-05-31  614.093994  614.467529  600.793823  602.671570  602.671570   \n",
       "\n",
       "     Volume  \n",
       "0         0  \n",
       "1         0  \n",
       "2         0  \n",
       "3         0  \n",
       "4         0  \n",
       "..      ...  \n",
       "247       0  \n",
       "248       0  \n",
       "249       0  \n",
       "250       0  \n",
       "251       0  \n",
       "\n",
       "[252 rows x 7 columns]"
      ]
     },
     "execution_count": 3,
     "metadata": {},
     "output_type": "execute_result"
    }
   ],
   "source": [
    "df"
   ]
  },
  {
   "cell_type": "code",
   "execution_count": 4,
   "id": "3967ab27",
   "metadata": {},
   "outputs": [],
   "source": [
    "df.drop(['Volume','Adj Close','Date'],axis=1,inplace=True)"
   ]
  },
  {
   "cell_type": "code",
   "execution_count": 5,
   "id": "7004b168",
   "metadata": {},
   "outputs": [
    {
     "data": {
      "text/html": [
       "<div>\n",
       "<style scoped>\n",
       "    .dataframe tbody tr th:only-of-type {\n",
       "        vertical-align: middle;\n",
       "    }\n",
       "\n",
       "    .dataframe tbody tr th {\n",
       "        vertical-align: top;\n",
       "    }\n",
       "\n",
       "    .dataframe thead th {\n",
       "        text-align: right;\n",
       "    }\n",
       "</style>\n",
       "<table border=\"1\" class=\"dataframe\">\n",
       "  <thead>\n",
       "    <tr style=\"text-align: right;\">\n",
       "      <th></th>\n",
       "      <th>Open</th>\n",
       "      <th>High</th>\n",
       "      <th>Low</th>\n",
       "      <th>Close</th>\n",
       "    </tr>\n",
       "  </thead>\n",
       "  <tbody>\n",
       "    <tr>\n",
       "      <th>0</th>\n",
       "      <td>694.754028</td>\n",
       "      <td>701.932983</td>\n",
       "      <td>682.754028</td>\n",
       "      <td>689.843994</td>\n",
       "    </tr>\n",
       "    <tr>\n",
       "      <th>1</th>\n",
       "      <td>643.786011</td>\n",
       "      <td>647.442017</td>\n",
       "      <td>642.570007</td>\n",
       "      <td>647.283997</td>\n",
       "    </tr>\n",
       "    <tr>\n",
       "      <th>2</th>\n",
       "      <td>659.184998</td>\n",
       "      <td>664.513000</td>\n",
       "      <td>658.841003</td>\n",
       "      <td>663.142029</td>\n",
       "    </tr>\n",
       "    <tr>\n",
       "      <th>3</th>\n",
       "      <td>659.184998</td>\n",
       "      <td>665.189026</td>\n",
       "      <td>636.864014</td>\n",
       "      <td>641.577026</td>\n",
       "    </tr>\n",
       "    <tr>\n",
       "      <th>4</th>\n",
       "      <td>651.463989</td>\n",
       "      <td>687.705994</td>\n",
       "      <td>649.588013</td>\n",
       "      <td>677.197998</td>\n",
       "    </tr>\n",
       "    <tr>\n",
       "      <th>...</th>\n",
       "      <td>...</td>\n",
       "      <td>...</td>\n",
       "      <td>...</td>\n",
       "      <td>...</td>\n",
       "    </tr>\n",
       "    <tr>\n",
       "      <th>247</th>\n",
       "      <td>585.127014</td>\n",
       "      <td>586.038025</td>\n",
       "      <td>584.374023</td>\n",
       "      <td>585.442993</td>\n",
       "    </tr>\n",
       "    <tr>\n",
       "      <th>248</th>\n",
       "      <td>587.317017</td>\n",
       "      <td>587.458984</td>\n",
       "      <td>586.687988</td>\n",
       "      <td>586.687988</td>\n",
       "    </tr>\n",
       "    <tr>\n",
       "      <th>249</th>\n",
       "      <td>587.317017</td>\n",
       "      <td>596.750977</td>\n",
       "      <td>584.856018</td>\n",
       "      <td>594.825989</td>\n",
       "    </tr>\n",
       "    <tr>\n",
       "      <th>250</th>\n",
       "      <td>615.893982</td>\n",
       "      <td>615.979004</td>\n",
       "      <td>614.624023</td>\n",
       "      <td>615.942017</td>\n",
       "    </tr>\n",
       "    <tr>\n",
       "      <th>251</th>\n",
       "      <td>614.093994</td>\n",
       "      <td>614.467529</td>\n",
       "      <td>600.793823</td>\n",
       "      <td>602.671570</td>\n",
       "    </tr>\n",
       "  </tbody>\n",
       "</table>\n",
       "<p>252 rows × 4 columns</p>\n",
       "</div>"
      ],
      "text/plain": [
       "           Open        High         Low       Close\n",
       "0    694.754028  701.932983  682.754028  689.843994\n",
       "1    643.786011  647.442017  642.570007  647.283997\n",
       "2    659.184998  664.513000  658.841003  663.142029\n",
       "3    659.184998  665.189026  636.864014  641.577026\n",
       "4    651.463989  687.705994  649.588013  677.197998\n",
       "..          ...         ...         ...         ...\n",
       "247  585.127014  586.038025  584.374023  585.442993\n",
       "248  587.317017  587.458984  586.687988  586.687988\n",
       "249  587.317017  596.750977  584.856018  594.825989\n",
       "250  615.893982  615.979004  614.624023  615.942017\n",
       "251  614.093994  614.467529  600.793823  602.671570\n",
       "\n",
       "[252 rows x 4 columns]"
      ]
     },
     "execution_count": 5,
     "metadata": {},
     "output_type": "execute_result"
    }
   ],
   "source": [
    "df"
   ]
  },
  {
   "cell_type": "code",
   "execution_count": 6,
   "id": "d60ee95a",
   "metadata": {},
   "outputs": [
    {
     "data": {
      "text/plain": [
       "Open     0\n",
       "High     0\n",
       "Low      0\n",
       "Close    0\n",
       "dtype: int64"
      ]
     },
     "execution_count": 6,
     "metadata": {},
     "output_type": "execute_result"
    }
   ],
   "source": [
    "df.isnull().sum()"
   ]
  },
  {
   "cell_type": "code",
   "execution_count": 7,
   "id": "70899017",
   "metadata": {},
   "outputs": [
    {
     "data": {
      "text/plain": [
       "0"
      ]
     },
     "execution_count": 7,
     "metadata": {},
     "output_type": "execute_result"
    }
   ],
   "source": [
    "df.duplicated().sum()"
   ]
  },
  {
   "cell_type": "code",
   "execution_count": 8,
   "id": "908af962",
   "metadata": {},
   "outputs": [
    {
     "data": {
      "text/plain": [
       "Open     127382.267141\n",
       "High     128690.580474\n",
       "Low      126045.950888\n",
       "Close    127326.313787\n",
       "dtype: float64"
      ]
     },
     "execution_count": 8,
     "metadata": {},
     "output_type": "execute_result"
    }
   ],
   "source": [
    "df.dropna().sum()"
   ]
  },
  {
   "cell_type": "code",
   "execution_count": 9,
   "id": "cf737af4",
   "metadata": {},
   "outputs": [],
   "source": [
    "import seaborn as sns"
   ]
  },
  {
   "cell_type": "code",
   "execution_count": 10,
   "id": "b2b68ba8",
   "metadata": {},
   "outputs": [
    {
     "data": {
      "text/plain": [
       "<Axes: >"
      ]
     },
     "execution_count": 10,
     "metadata": {},
     "output_type": "execute_result"
    },
    {
     "data": {
      "image/png": "[encoded data removed]",
      "text/plain": [
       "<Figure size 640x480 with 1 Axes>"
      ]
     },
     "metadata": {},
     "output_type": "display_data"
    }
   ],
   "source": [
    "sns.scatterplot(df)"
   ]
  },
  {
   "cell_type": "code",
   "execution_count": 11,
   "id": "f1e21869",
   "metadata": {},
   "outputs": [
    {
     "data": {
      "image/png": "[encoded data removed]",
      "text/plain": [
       "<Figure size 640x480 with 1 Axes>"
      ]
     },
     "metadata": {},
     "output_type": "display_data"
    }
   ],
   "source": [
    "plt.plot(df)\n",
    "plt.grid()"
   ]
  },
  {
   "cell_type": "code",
   "execution_count": 12,
   "id": "6426d00d",
   "metadata": {},
   "outputs": [
    {
     "data": {
      "text/plain": [
       "<Axes: >"
      ]
     },
     "execution_count": 12,
     "metadata": {},
     "output_type": "execute_result"
    },
    {
     "data": {
      "image/png": "[encoded data removed]",
      "text/plain": [
       "<Figure size 640x480 with 1 Axes>"
      ]
     },
     "metadata": {},
     "output_type": "display_data"
    }
   ],
   "source": [
    "sns.barplot(df)"
   ]
  },
  {
   "cell_type": "code",
   "execution_count": 13,
   "id": "9306bbfb",
   "metadata": {},
   "outputs": [
    {
     "data": {
      "text/plain": [
       "(array([[23., 25., 46., 34., 32., 26., 17., 30., 15.,  4.],\n",
       "        [21., 26., 41., 34., 30., 32., 17., 28., 17.,  6.],\n",
       "        [27., 28., 43., 35., 32., 22., 21., 28., 14.,  2.],\n",
       "        [24., 26., 44., 35., 32., 24., 20., 27., 14.,  6.]]),\n",
       " array([359.904999 , 394.1077974, 428.3105958, 462.5133942, 496.7161926,\n",
       "        530.918991 , 565.1217894, 599.3245878, 633.5273862, 667.7301846,\n",
       "        701.932983 ]),\n",
       " <a list of 4 BarContainer objects>)"
      ]
     },
     "execution_count": 13,
     "metadata": {},
     "output_type": "execute_result"
    },
    {
     "data": {
      "image/png": "[encoded data removed]",
      "text/plain": [
       "<Figure size 640x480 with 1 Axes>"
      ]
     },
     "metadata": {},
     "output_type": "display_data"
    }
   ],
   "source": [
    "plt.hist(df)"
   ]
  },
  {
   "cell_type": "code",
   "execution_count": 14,
   "id": "db89d07e",
   "metadata": {},
   "outputs": [],
   "source": [
    "x_raw=df[['Open','High','Low']].values\n",
    "y_raw=df[['Close']].values"
   ]
  },
  {
   "cell_type": "code",
   "execution_count": 15,
   "id": "6409b6fd",
   "metadata": {},
   "outputs": [
    {
     "data": {
      "text/plain": [
       "((252, 3), (252, 1))"
      ]
     },
     "execution_count": 15,
     "metadata": {},
     "output_type": "execute_result"
    }
   ],
   "source": [
    "x_raw.shape,y_raw.shape"
   ]
  },
  {
   "cell_type": "code",
   "execution_count": 16,
   "id": "4d671954",
   "metadata": {},
   "outputs": [],
   "source": [
    "from sklearn.preprocessing import StandardScaler,LabelEncoder"
   ]
  },
  {
   "cell_type": "code",
   "execution_count": 17,
   "id": "65c86e32",
   "metadata": {},
   "outputs": [],
   "source": [
    "conv=StandardScaler()"
   ]
  },
  {
   "cell_type": "code",
   "execution_count": 18,
   "id": "ebe543d6",
   "metadata": {},
   "outputs": [],
   "source": [
    "x=conv.fit_transform(x_raw)"
   ]
  },
  {
   "cell_type": "code",
   "execution_count": 19,
   "id": "2a007726",
   "metadata": {},
   "outputs": [
    {
     "data": {
      "text/plain": [
       "array([[ 2.2712649 ,  2.26220489,  2.21227919],\n",
       "       [ 1.65963825,  1.61767776,  1.72535662],\n",
       "       [ 1.84442925,  1.81959585,  1.92251746],\n",
       "       [ 1.84442925,  1.82759198,  1.65621529],\n",
       "       [ 1.75177556,  2.09392598,  1.81039603],\n",
       "       [ 2.05780496,  1.97340941,  2.12985717],\n",
       "       [ 1.83655704,  1.75035384,  1.89616245],\n",
       "       [ 1.77760047,  1.69194659,  1.83410926],\n",
       "       [ 1.77760047,  1.70714544,  1.48078042],\n",
       "       [-0.23865042, -0.28706786, -0.21105133],\n",
       "       [-0.5950204 , -0.61816138, -0.53657114],\n",
       "       [-0.5950204 , -0.45306438, -0.95042593],\n",
       "       [-0.35284426, -0.27040203, -0.76444942],\n",
       "       [-0.7885596 , -0.73600536, -0.87653462],\n",
       "       [-0.67702998, -0.72873117, -0.66279714],\n",
       "       [-0.67702998, -0.72873117, -0.92342858],\n",
       "       [-0.72960265, -0.6936723 , -0.67720459],\n",
       "       [-0.72960265, -0.54013129, -0.67720459],\n",
       "       [-0.61846892, -0.64046947, -0.56399264],\n",
       "       [-0.74759088, -0.79531178, -0.7331747 ],\n",
       "       [-0.82322828, -0.86610306, -0.77993554],\n",
       "       [-1.20016685, -1.22033237, -1.16831947],\n",
       "       [-1.20016685, -0.83518449, -1.16831947],\n",
       "       [-0.77672748, -0.82048196, -0.74627345],\n",
       "       [-0.76724722, -0.75970894, -0.71047877],\n",
       "       [-0.43833364, -0.48120352, -0.40071169],\n",
       "       [-0.43833364, -0.34166691, -0.49854699],\n",
       "       [-0.83976445, -0.88913235, -0.87975772],\n",
       "       [-1.09606485, -1.12454813, -1.04250542],\n",
       "       [-0.94771832, -0.98379326, -0.9084879 ],\n",
       "       [-0.73430672, -0.76804763, -0.67931313],\n",
       "       [-0.73430672, -0.56427236, -0.68917657],\n",
       "       [-0.42438956, -0.00258917, -0.43799663],\n",
       "       [-0.15900514,  0.24542361, -0.10450376],\n",
       "       [ 0.2804782 ,  0.21504829,  0.24482653],\n",
       "       [ 0.2804782 ,  0.21504829,  0.0438243 ],\n",
       "       [ 0.23985812,  0.31201614,  0.11668574],\n",
       "       [-0.06492321, -0.12540076, -0.11966261],\n",
       "       [-0.06492321, -0.12540076, -0.41038137],\n",
       "       [ 0.16676483,  0.12244598,  0.23264856],\n",
       "       [ 0.16676483,  0.56642741,  0.23264856],\n",
       "       [ 0.57887564,  0.57998243,  0.46870552],\n",
       "       [ 0.47776161,  0.40950306,  0.30967829],\n",
       "       [ 0.27218631,  0.32822064,  0.21021925],\n",
       "       [ 0.30575085,  0.37047032,  0.24247539],\n",
       "       [ 0.14247584,  0.10627685,  0.19852571],\n",
       "       [ 0.14247584,  0.39632706,  0.19852571],\n",
       "       [ 0.61264452,  0.54396592,  0.65872939],\n",
       "       [ 0.40720107,  0.35706907,  0.46324074],\n",
       "       [ 0.72512228,  0.65971628,  0.78928122],\n",
       "       [ 0.81709186,  0.743968  ,  0.86017981],\n",
       "       [ 0.81709186,  0.77878971,  0.74322372],\n",
       "       [ 0.79195105,  0.74716112,  0.85882267],\n",
       "       [ 0.75897466,  0.68836402,  0.80304706],\n",
       "       [ 0.75897466,  0.86408245,  0.79794543],\n",
       "       [ 0.62829225,  0.56056027,  0.69024669],\n",
       "       [ 0.62829225,  0.56056027,  0.05459631],\n",
       "       [-0.15870484, -0.17261877, -0.09599745],\n",
       "       [ 0.00713772, -0.0286347 ,  0.07106386],\n",
       "       [ 0.07221488,  0.00977105,  0.08427169],\n",
       "       [ 0.07221488,  0.07300441,  0.05900719],\n",
       "       [ 0.08673539,  0.06101094, -0.2211936 ],\n",
       "       [-0.35650424, -0.40771509, -0.30600299],\n",
       "       [-0.35650424, -0.29275741, -0.48315813],\n",
       "       [-0.42185753, -0.30078855, -0.39874884],\n",
       "       [-0.33849185, -0.3705157 , -0.27796321],\n",
       "       [-0.33849185, -0.26604951, -0.35992483],\n",
       "       [-0.54143953, -0.59508481, -0.50133411],\n",
       "       [-0.39478492, -0.43601992, -0.34479039],\n",
       "       [-0.39478492, -0.42218082, -0.43370705],\n",
       "       [-0.39900924,  0.00525282, -0.35792538],\n",
       "       [ 0.10851579,  0.23792418,  0.17334589],\n",
       "       [ 0.23941353,  0.26679643, -0.26995389],\n",
       "       [-0.27238306, -0.31022746, -0.21754634],\n",
       "       [-0.4759544 , -0.5305386 , -0.45608793],\n",
       "       [-0.4759544 , -0.5305386 , -0.58508885],\n",
       "       [-0.66793351, -0.69332938, -0.62250729],\n",
       "       [-0.83341644, -0.88276888, -0.8010802 ],\n",
       "       [-1.00516352, -1.05215993, -1.01681676],\n",
       "       [-0.80214406, -0.7751565 , -0.74725486],\n",
       "       [-0.80214406, -0.74530241, -0.89289307],\n",
       "       [-0.8073762 , -0.83040565, -0.75326509],\n",
       "       [-0.8073762 , -0.54353772, -0.80135865],\n",
       "       [-0.69169405, -0.73893857, -0.66874672],\n",
       "       [-0.73279461, -0.76591865, -0.6845479 ],\n",
       "       [-0.73279461, -0.62315284, -0.7225358 ],\n",
       "       [-0.7343188 , -0.7763513 , -0.68308167],\n",
       "       [-0.54524343, -0.59610201, -0.49428182],\n",
       "       [-0.54524343, -0.5807844 , -0.62424013],\n",
       "       [-0.62229699, -0.67225148, -0.56739767],\n",
       "       [-0.62229699, -0.6481696 , -0.69814364],\n",
       "       [-0.80142407, -0.85069088, -0.78930198],\n",
       "       [-0.80142407, -0.85069088, -0.8534149 ],\n",
       "       [-0.83630846, -0.87994214, -0.78086852],\n",
       "       [-0.80316397, -0.8495791 , -0.75016328],\n",
       "       [-0.80316397, -0.72427179, -0.81048325],\n",
       "       [-0.73711486, -0.76970374, -0.68024612],\n",
       "       [-0.80348807, -0.84694152, -0.753156  ],\n",
       "       [-0.84174459, -0.89102491, -0.79228287],\n",
       "       [-0.88249724, -0.93012875, -0.84419341],\n",
       "       [-0.88249724, -0.88119579, -0.92249559],\n",
       "       [-0.75912306, -0.8096472 , -0.71446549],\n",
       "       [-0.45202614, -0.50030586, -0.44855084],\n",
       "       [-0.26022684, -0.27972255, -0.2113908 ],\n",
       "       [-0.3537924 , -0.40076   , -0.32013161],\n",
       "       [-0.3537924 , -0.29320682, -0.39118772],\n",
       "       [-0.20174964, -0.16271855, -0.22772484],\n",
       "       [-0.23255436, -0.18002327, -0.17758338],\n",
       "       [-0.20762962, -0.17486615, -0.30176185],\n",
       "       [-0.36797636, -0.3037575 , -0.30731132],\n",
       "       [-0.32175169, -0.03799095, -0.27180766],\n",
       "       [-0.24165047, -0.27488488, -0.18176387],\n",
       "       [-0.91973384, -0.94439342, -0.87884913],\n",
       "       [-1.65882642, -1.69645064, -1.69978525],\n",
       "       [-1.03722803, -1.0810441 , -1.07173261],\n",
       "       [-1.03722803, -1.0810441 , -1.36060943],\n",
       "       [-1.4404588 , -1.4027341 , -1.3902604 ],\n",
       "       [-1.3212247 , -1.3602711 , -1.27842962],\n",
       "       [-1.3212247 , -1.32512993, -1.4185424 ],\n",
       "       [-1.39820613, -1.43940142, -1.36551693],\n",
       "       [-1.39820613, -1.37493825, -1.38143902],\n",
       "       [-1.69945932, -1.71698458, -1.65258842],\n",
       "       [-1.57510111, -1.60669888, -1.53010655],\n",
       "       [-1.57510111, -1.47144405, -1.53481992],\n",
       "       [-1.41037442, -1.4474091 , -1.43268321],\n",
       "       [-1.49920003, -1.53528059, -1.45516097],\n",
       "       [-1.38659008, -1.42570456, -1.34894029],\n",
       "       [-1.17401821, -1.2056183 , -1.12457614],\n",
       "       [-1.23447517, -1.27640957, -1.19103944],\n",
       "       [-1.23447517, -1.24444998, -1.21437771],\n",
       "       [-1.25536786, -1.29283896, -1.20804022],\n",
       "       [-1.26376779, -1.26692338, -1.21191786],\n",
       "       [-1.26376779, -1.26082016, -1.29963492],\n",
       "       [-1.19405871, -1.2322078 , -1.14145562],\n",
       "       [-1.19405871, -1.21632276, -1.19042152],\n",
       "       [-1.24141133, -1.26349347, -1.26296791],\n",
       "       [-1.06863263, -1.10646299, -1.01480547],\n",
       "       [-1.06832061, -1.11339427, -1.02306919],\n",
       "       [-1.06832061, -1.11339427, -1.15812914],\n",
       "       [-1.21670302, -1.21497418, -1.4536341 ],\n",
       "       [-1.55028477, -1.57363904, -1.50115819],\n",
       "       [-1.39191817, -1.4217776 , -1.34124605],\n",
       "       [-1.42022639, -1.45119419, -1.37192688],\n",
       "       [-1.40412236, -1.43830156, -1.35356934],\n",
       "       [-1.40412236, -1.41419587, -1.3550596 ],\n",
       "       [-1.43009083, -1.46484378, -1.37992436],\n",
       "       [-1.50241579, -1.53519757, -1.45335528],\n",
       "       [-1.47045931, -1.5021381 , -1.42386184],\n",
       "       [-1.47045931, -1.5021381 , -1.4805586 ],\n",
       "       [-1.44030278, -1.47444837, -1.39010286],\n",
       "       [-1.35459734, -1.38641156, -1.30400955],\n",
       "       [-1.35873743, -1.39709219, -1.31381234],\n",
       "       [-1.35873743, -1.3472958 , -1.34937665],\n",
       "       [-1.18726648, -1.23026796, -1.14698104],\n",
       "       [-1.12398928, -1.16864343, -1.07587649],\n",
       "       [-1.08641686, -1.03199274, -1.03489585],\n",
       "       [-0.76274715, -0.81271072, -0.71532599],\n",
       "       [-0.76274715, -0.62146171, -0.75160509],\n",
       "       [-0.15386895, -0.2130712 , -0.09124749],\n",
       "       [-0.30388359, -0.35850997, -0.26388303],\n",
       "       [-0.22557024, -0.27797223, -0.17011915],\n",
       "       [-0.22557024,  0.06027746, -0.19371146],\n",
       "       [ 0.17510506,  0.21055426,  0.21970735],\n",
       "       [ 0.23029399,  0.21875109,  0.25424141],\n",
       "       [ 0.17808094,  0.11706397,  0.24407511],\n",
       "       [ 0.2147532 ,  0.15140126,  0.27207792],\n",
       "       [ 0.2147532 ,  0.24473706,  0.16468242],\n",
       "       [ 0.11487551,  0.07262612,  0.18025284],\n",
       "       [ 0.24632625,  0.18138601,  0.28876363],\n",
       "       [ 0.40128447,  0.34966494,  0.46945694],\n",
       "       [ 0.39566816,  0.32858666,  0.43957558],\n",
       "       [ 0.39566816,  0.36564492,  0.3901493 ],\n",
       "       [ 0.24294167,  0.17804996,  0.24434136],\n",
       "       [ 0.35992023,  0.31025317,  0.42664695],\n",
       "       [ 0.28086273,  0.21542731,  0.33105297],\n",
       "       [-0.08816775, -0.12174597, -0.02723182],\n",
       "       [-0.08816775, -0.09871668, -0.10037208],\n",
       "       [-0.15708506, -0.16828971, -0.09600965],\n",
       "       [ 0.02481429, -0.03694992,  0.08931268],\n",
       "       [ 0.52383099,  0.4786505 ,  0.58451082],\n",
       "       [ 0.46336194,  0.40453544,  0.47630325],\n",
       "       [ 0.46336194,  0.63429704,  0.40287234],\n",
       "       [ 0.53802703,  0.47291402,  0.60469846],\n",
       "       [ 0.45828544,  0.42770659,  0.5270142 ],\n",
       "       [ 0.43832953,  0.37859639,  0.50353098],\n",
       "       [ 0.43832953,  0.42743514,  0.27024819],\n",
       "       [ 0.34226783,  0.28386509,  0.40370879],\n",
       "       [ 0.25447385,  0.19025712,  0.31992964],\n",
       "       [ 0.37404449,  0.33971742,  0.44024195],\n",
       "       [ 0.35401608,  0.28889191,  0.41146332],\n",
       "       [ 0.35401608,  0.28889191,  0.05843771],\n",
       "       [ 0.04857447,  0.02745407,  0.0814243 ],\n",
       "       [-0.03702295, -0.0665914 ,  0.02633873],\n",
       "       [-0.10986428, -0.16884559, -0.07999067],\n",
       "       [-0.51709121, -0.5642608 , -0.46895666],\n",
       "       [-0.51709121, -0.56290032, -0.66568115],\n",
       "       [-0.07562737,  0.48791217, -0.02314822],\n",
       "       [ 0.49542646,  0.9194381 ,  0.49842934],\n",
       "       [ 0.60965619,  0.60935137,  0.40063066],\n",
       "       [ 0.47222952,  0.57263748,  0.47368587],\n",
       "       [ 0.59963575,  0.98911832,  0.64462481],\n",
       "       [ 1.33077227,  1.28881933,  1.15607267],\n",
       "       [ 1.21599028,  1.29848313,  1.15433984],\n",
       "       [ 1.29085973,  1.36178724,  1.02519396],\n",
       "       [ 1.34649251,  1.26577813,  1.42302939],\n",
       "       [ 1.34649251,  1.31809443,  1.10783341],\n",
       "       [ 1.02307512,  0.95672088,  1.08163593],\n",
       "       [ 1.09279628,  1.02843479,  1.16480937],\n",
       "       [ 1.34859314,  1.26784863,  1.38934363],\n",
       "       [ 1.2909315 ,  1.21861931,  1.36610225],\n",
       "       [ 1.2909315 ,  1.36952275,  1.26505606],\n",
       "       [ 1.25037148,  1.23000996,  1.32193439],\n",
       "       [ 1.43041045,  1.35938609,  1.50862644],\n",
       "       [ 1.46581047,  1.39236326,  1.52908032],\n",
       "       [ 1.37232913,  1.29437894,  1.43588628],\n",
       "       [ 1.45449436,  1.55682171,  1.45898123],\n",
       "       [ 1.79864843,  1.71543684,  1.87242407],\n",
       "       [ 1.77287187,  1.69130768,  1.83324913],\n",
       "       [ 1.95178288,  1.88798599,  2.03014371],\n",
       "       [ 1.95178288,  2.11521649,  2.02507832],\n",
       "       [ 1.88402977,  1.81584614,  1.96637026],\n",
       "       [ 1.88402977,  2.028599  ,  1.90200292],\n",
       "       [ 1.69794309,  1.62353263,  1.756425  ],\n",
       "       [ 1.47208669,  1.43415233,  1.55070941],\n",
       "       [ 1.47208669,  1.43796054,  1.23754951],\n",
       "       [ 1.20737465,  1.1522282 ,  1.27798544],\n",
       "       [ 1.20737465,  1.26787173,  1.21316991],\n",
       "       [ 1.47837538,  1.39577006,  1.45792732],\n",
       "       [ 1.47837538,  1.67622723,  1.45792732],\n",
       "       [ 1.6989751 ,  1.61435398,  1.60981758],\n",
       "       [ 1.29390812,  1.24761068,  1.35998294],\n",
       "       [ 1.46972313,  1.41319247,  1.54832278],\n",
       "       [ 1.53919233,  1.54030967,  1.61846995],\n",
       "       [ 1.53919233,  1.55515405,  1.54627488],\n",
       "       [ 1.50391171,  1.69716255,  1.56429332],\n",
       "       [ 1.52344793,  1.46042203,  1.21131578],\n",
       "       [ 1.2211869 ,  1.1441375 ,  1.28890315],\n",
       "       [ 1.2054901 ,  1.13663879,  1.28151103],\n",
       "       [ 1.05213958,  0.99576516,  1.12666392],\n",
       "       [ 1.05213958,  0.9961088 ,  0.8741875 ],\n",
       "       [ 1.16700581,  1.08900639,  1.22019743],\n",
       "       [ 1.16700581,  1.08900639,  1.12018148],\n",
       "       [ 1.10483238,  1.12492904,  1.06371436],\n",
       "       [ 1.07899648,  1.00598485,  1.14183497],\n",
       "       [ 1.07899648,  1.05232788,  1.10175109],\n",
       "       [ 1.08527199,  1.01383875,  1.15378292],\n",
       "       [ 1.16886545,  1.09637588,  1.23935483],\n",
       "       [ 0.95571825,  0.89138235,  1.02017736],\n",
       "       [ 0.98199874,  0.90818966,  1.04821641],\n",
       "       [ 0.98199874,  1.01809671,  1.02601785],\n",
       "       [ 1.32492818,  1.24552863,  1.38672624],\n",
       "       [ 1.30332795,  1.22765069,  1.2191413 ]])"
      ]
     },
     "execution_count": 19,
     "metadata": {},
     "output_type": "execute_result"
    }
   ],
   "source": [
    "x"
   ]
  },
  {
   "cell_type": "code",
   "execution_count": 20,
   "id": "c5502881",
   "metadata": {},
   "outputs": [],
   "source": [
    "lab=LabelEncoder()"
   ]
  },
  {
   "cell_type": "code",
   "execution_count": 21,
   "id": "6a917eac",
   "metadata": {},
   "outputs": [],
   "source": [
    "y=y_raw.ravel().astype(int)"
   ]
  },
  {
   "cell_type": "code",
   "execution_count": 22,
   "id": "74d307d4",
   "metadata": {},
   "outputs": [
    {
     "data": {
      "text/plain": [
       "array([689, 647, 663, 641, 677, 675, 656, 651, 627, 484, 457, 464, 437,\n",
       "       438, 448, 423, 450, 462, 454, 439, 435, 407, 420, 441, 446, 467,\n",
       "       472, 427, 415, 425, 445, 458, 489, 523, 520, 526, 509, 490, 468,\n",
       "       521, 552, 551, 528, 530, 534, 519, 533, 554, 538, 565, 571, 574,\n",
       "       573, 567, 566, 557, 504, 496, 506, 507, 514, 484, 475, 474, 477,\n",
       "       477, 472, 459, 472, 473, 510, 527, 484, 484, 462, 459, 451, 436,\n",
       "       418, 444, 434, 440, 436, 445, 443, 443, 445, 459, 456, 453, 445,\n",
       "       435, 432, 435, 438, 433, 445, 439, 434, 430, 435, 441, 463, 486,\n",
       "       474, 485, 484, 488, 475, 481, 504, 487, 430, 364, 413, 396, 391,\n",
       "       395, 386, 387, 388, 364, 374, 383, 387, 380, 388, 408, 402, 404,\n",
       "       401, 403, 394, 406, 402, 403, 417, 416, 404, 381, 377, 390, 387,\n",
       "       389, 388, 386, 380, 383, 382, 385, 393, 392, 395, 406, 411, 423,\n",
       "       441, 458, 492, 478, 486, 515, 526, 524, 520, 523, 523, 516, 524,\n",
       "       538, 537, 535, 521, 536, 528, 500, 491, 496, 507, 551, 539, 559,\n",
       "       550, 546, 542, 525, 534, 526, 539, 534, 507, 509, 505, 493, 462,\n",
       "       459, 545, 550, 544, 553, 590, 609, 612, 595, 617, 591, 589, 596,\n",
       "       614, 612, 621, 613, 624, 627, 619, 638, 655, 652, 667, 680, 663,\n",
       "       676, 645, 629, 604, 607, 617, 621, 646, 640, 614, 629, 638, 631,\n",
       "       651, 605, 607, 606, 593, 584, 600, 596, 603, 594, 593, 595, 603,\n",
       "       585, 586, 594, 615, 602])"
      ]
     },
     "execution_count": 22,
     "metadata": {},
     "output_type": "execute_result"
    }
   ],
   "source": [
    "y"
   ]
  },
  {
   "cell_type": "code",
   "execution_count": 23,
   "id": "98cab837",
   "metadata": {},
   "outputs": [],
   "source": [
    "from sklearn.model_selection import train_test_split"
   ]
  },
  {
   "cell_type": "code",
   "execution_count": 24,
   "id": "e8eeb2f2",
   "metadata": {},
   "outputs": [],
   "source": [
    "x_train,x_test,y_train,y_test=train_test_split(x,y,test_size=0.2)"
   ]
  },
  {
   "cell_type": "code",
   "execution_count": 25,
   "id": "32e46ca3",
   "metadata": {},
   "outputs": [
    {
     "data": {
      "text/plain": [
       "((201, 3), (201,))"
      ]
     },
     "execution_count": 25,
     "metadata": {},
     "output_type": "execute_result"
    }
   ],
   "source": [
    "x_train.shape,y_train.shape"
   ]
  },
  {
   "cell_type": "code",
   "execution_count": 26,
   "id": "3acafb0a",
   "metadata": {},
   "outputs": [],
   "source": [
    "from sklearn.svm import SVC"
   ]
  },
  {
   "cell_type": "code",
   "execution_count": 27,
   "id": "71650274",
   "metadata": {},
   "outputs": [],
   "source": [
    "model=SVC()"
   ]
  },
  {
   "cell_type": "code",
   "execution_count": 28,
   "id": "1db7722d",
   "metadata": {},
   "outputs": [
    {
     "data": {
      "text/plain": [
       "array([[ 0.79195105,  0.74716112,  0.85882267],\n",
       "       [-0.35650424, -0.40771509, -0.30600299],\n",
       "       [ 1.50391171,  1.69716255,  1.56429332],\n",
       "       [-0.20762962, -0.17486615, -0.30176185],\n",
       "       [-0.03702295, -0.0665914 ,  0.02633873],\n",
       "       [ 0.40720107,  0.35706907,  0.46324074],\n",
       "       [ 0.35992023,  0.31025317,  0.42664695],\n",
       "       [ 1.88402977,  1.81584614,  1.96637026],\n",
       "       [ 1.69794309,  1.62353263,  1.756425  ],\n",
       "       [ 1.05213958,  0.99576516,  1.12666392],\n",
       "       [-1.40412236, -1.43830156, -1.35356934],\n",
       "       [ 1.02307512,  0.95672088,  1.08163593],\n",
       "       [ 1.33077227,  1.28881933,  1.15607267],\n",
       "       [-0.08816775, -0.09871668, -0.10037208],\n",
       "       [-0.42438956, -0.00258917, -0.43799663],\n",
       "       [ 0.75897466,  0.86408245,  0.79794543],\n",
       "       [-1.44030278, -1.47444837, -1.39010286],\n",
       "       [ 0.14247584,  0.10627685,  0.19852571],\n",
       "       [ 0.23029399,  0.21875109,  0.25424141],\n",
       "       [ 0.04857447,  0.02745407,  0.0814243 ],\n",
       "       [-1.17401821, -1.2056183 , -1.12457614],\n",
       "       [-0.54524343, -0.59610201, -0.49428182],\n",
       "       [ 0.53802703,  0.47291402,  0.60469846],\n",
       "       [ 0.60965619,  0.60935137,  0.40063066],\n",
       "       [ 0.17808094,  0.11706397,  0.24407511],\n",
       "       [-1.41037442, -1.4474091 , -1.43268321],\n",
       "       [ 1.6989751 ,  1.61435398,  1.60981758],\n",
       "       [ 1.09279628,  1.02843479,  1.16480937],\n",
       "       [ 0.61264452,  0.54396592,  0.65872939],\n",
       "       [-1.08641686, -1.03199274, -1.03489585],\n",
       "       [-0.7343188 , -0.7763513 , -0.68308167],\n",
       "       [ 0.2147532 ,  0.24473706,  0.16468242],\n",
       "       [ 1.29085973,  1.36178724,  1.02519396],\n",
       "       [ 1.65963825,  1.61767776,  1.72535662],\n",
       "       [ 0.14247584,  0.39632706,  0.19852571],\n",
       "       [-1.50241579, -1.53519757, -1.45335528],\n",
       "       [-1.12398928, -1.16864343, -1.07587649],\n",
       "       [ 0.39566816,  0.36564492,  0.3901493 ],\n",
       "       [ 1.20737465,  1.1522282 ,  1.27798544],\n",
       "       [-0.5950204 , -0.61816138, -0.53657114],\n",
       "       [-1.00516352, -1.05215993, -1.01681676],\n",
       "       [ 1.2909315 ,  1.36952275,  1.26505606],\n",
       "       [-0.75912306, -0.8096472 , -0.71446549],\n",
       "       [ 0.28086273,  0.21542731,  0.33105297],\n",
       "       [-1.55028477, -1.57363904, -1.50115819],\n",
       "       [-0.23865042, -0.28706786, -0.21105133],\n",
       "       [ 0.40128447,  0.34966494,  0.46945694],\n",
       "       [-0.26022684, -0.27972255, -0.2113908 ],\n",
       "       [-1.23447517, -1.24444998, -1.21437771],\n",
       "       [-0.8073762 , -0.83040565, -0.75326509],\n",
       "       [-0.66793351, -0.69332938, -0.62250729],\n",
       "       [-0.27238306, -0.31022746, -0.21754634],\n",
       "       [ 1.08527199,  1.01383875,  1.15378292],\n",
       "       [ 1.2211869 ,  1.1441375 ,  1.28890315],\n",
       "       [-1.19405871, -1.21632276, -1.19042152],\n",
       "       [-0.51709121, -0.5642608 , -0.46895666],\n",
       "       [-1.57510111, -1.47144405, -1.53481992],\n",
       "       [-0.42185753, -0.30078855, -0.39874884],\n",
       "       [-0.73430672, -0.76804763, -0.67931313],\n",
       "       [-0.83341644, -0.88276888, -0.8010802 ],\n",
       "       [-0.73711486, -0.76970374, -0.68024612],\n",
       "       [-0.8073762 , -0.54353772, -0.80135865],\n",
       "       [ 0.24632625,  0.18138601,  0.28876363],\n",
       "       [-0.82322828, -0.86610306, -0.77993554],\n",
       "       [ 1.37232913,  1.29437894,  1.43588628],\n",
       "       [-0.07562737,  0.48791217, -0.02314822],\n",
       "       [-0.3537924 , -0.29320682, -0.39118772],\n",
       "       [-1.23447517, -1.27640957, -1.19103944],\n",
       "       [ 1.47208669,  1.43415233,  1.55070941],\n",
       "       [ 1.53919233,  1.54030967,  1.61846995],\n",
       "       [ 1.47208669,  1.43796054,  1.23754951],\n",
       "       [ 1.95178288,  2.11521649,  2.02507832],\n",
       "       [-1.39820613, -1.37493825, -1.38143902],\n",
       "       [-0.72960265, -0.6936723 , -0.67720459],\n",
       "       [-1.49920003, -1.53528059, -1.45516097],\n",
       "       [ 0.30575085,  0.37047032,  0.24247539],\n",
       "       [-1.47045931, -1.5021381 , -1.42386184],\n",
       "       [-1.38659008, -1.42570456, -1.34894029],\n",
       "       [ 1.84442925,  1.81959585,  1.92251746],\n",
       "       [-1.06832061, -1.11339427, -1.15812914],\n",
       "       [-1.24141133, -1.26349347, -1.26296791],\n",
       "       [ 0.07221488,  0.07300441,  0.05900719],\n",
       "       [-0.3537924 , -0.40076   , -0.32013161],\n",
       "       [ 0.95571825,  0.89138235,  1.02017736],\n",
       "       [ 0.25447385,  0.19025712,  0.31992964],\n",
       "       [ 0.23985812,  0.31201614,  0.11668574],\n",
       "       [-0.22557024, -0.27797223, -0.17011915],\n",
       "       [ 1.25037148,  1.23000996,  1.32193439],\n",
       "       [ 1.2054901 ,  1.13663879,  1.28151103],\n",
       "       [-0.45202614, -0.50030586, -0.44855084],\n",
       "       [ 0.17510506,  0.21055426,  0.21970735],\n",
       "       [-0.54524343, -0.5807844 , -0.62424013],\n",
       "       [-0.76274715, -0.62146171, -0.75160509],\n",
       "       [-1.19405871, -1.2322078 , -1.14145562],\n",
       "       [-0.73279461, -0.62315284, -0.7225358 ],\n",
       "       [ 0.08673539,  0.06101094, -0.2211936 ],\n",
       "       [ 0.43832953,  0.42743514,  0.27024819],\n",
       "       [ 0.07221488,  0.00977105,  0.08427169],\n",
       "       [-0.23255436, -0.18002327, -0.17758338],\n",
       "       [-0.67702998, -0.72873117, -0.92342858],\n",
       "       [ 0.11487551,  0.07262612,  0.18025284],\n",
       "       [-1.21670302, -1.21497418, -1.4536341 ],\n",
       "       [-1.47045931, -1.5021381 , -1.4805586 ],\n",
       "       [-0.39478492, -0.43601992, -0.34479039],\n",
       "       [ 1.30332795,  1.22765069,  1.2191413 ],\n",
       "       [-0.80214406, -0.74530241, -0.89289307],\n",
       "       [-0.15870484, -0.17261877, -0.09599745],\n",
       "       [ 0.43832953,  0.37859639,  0.50353098],\n",
       "       [-0.15386895, -0.2130712 , -0.09124749],\n",
       "       [-0.43833364, -0.34166691, -0.49854699],\n",
       "       [-0.80214406, -0.7751565 , -0.74725486],\n",
       "       [ 1.05213958,  0.9961088 ,  0.8741875 ],\n",
       "       [-1.20016685, -1.22033237, -1.16831947],\n",
       "       [ 0.62829225,  0.56056027,  0.05459631],\n",
       "       [-0.39900924,  0.00525282, -0.35792538],\n",
       "       [-0.24165047, -0.27488488, -0.18176387],\n",
       "       [ 1.16700581,  1.08900639,  1.12018148],\n",
       "       [ 0.10851579,  0.23792418,  0.17334589],\n",
       "       [ 0.98199874,  0.90818966,  1.04821641],\n",
       "       [ 0.00713772, -0.0286347 ,  0.07106386],\n",
       "       [ 1.53919233,  1.55515405,  1.54627488],\n",
       "       [-0.84174459, -0.89102491, -0.79228287],\n",
       "       [ 1.07899648,  1.05232788,  1.10175109],\n",
       "       [-0.33849185, -0.3705157 , -0.27796321],\n",
       "       [-0.80142407, -0.85069088, -0.8534149 ],\n",
       "       [-1.25536786, -1.29283896, -1.20804022],\n",
       "       [-0.15708506, -0.16828971, -0.09600965],\n",
       "       [ 2.2712649 ,  2.26220489,  2.21227919],\n",
       "       [-1.35459734, -1.38641156, -1.30400955],\n",
       "       [ 0.75897466,  0.68836402,  0.80304706],\n",
       "       [ 0.2804782 ,  0.21504829,  0.0438243 ],\n",
       "       [-0.7885596 , -0.73600536, -0.87653462],\n",
       "       [-0.94771832, -0.98379326, -0.9084879 ],\n",
       "       [-0.72960265, -0.54013129, -0.67720459],\n",
       "       [-1.4404588 , -1.4027341 , -1.3902604 ],\n",
       "       [ 0.46336194,  0.63429704,  0.40287234],\n",
       "       [ 0.39566816,  0.32858666,  0.43957558],\n",
       "       [ 1.84442925,  1.82759198,  1.65621529],\n",
       "       [-0.80348807, -0.84694152, -0.753156  ],\n",
       "       [-0.54143953, -0.59508481, -0.50133411],\n",
       "       [-0.80316397, -0.72427179, -0.81048325],\n",
       "       [ 1.95178288,  1.88798599,  2.03014371],\n",
       "       [-1.20016685, -0.83518449, -1.16831947],\n",
       "       [ 1.88402977,  2.028599  ,  1.90200292],\n",
       "       [-0.5950204 , -0.45306438, -0.95042593],\n",
       "       [-1.18726648, -1.23026796, -1.14698104],\n",
       "       [-1.3212247 , -1.32512993, -1.4185424 ],\n",
       "       [-0.74759088, -0.79531178, -0.7331747 ],\n",
       "       [ 0.23941353,  0.26679643, -0.26995389],\n",
       "       [ 1.46581047,  1.39236326,  1.52908032],\n",
       "       [ 0.16676483,  0.12244598,  0.23264856],\n",
       "       [-0.80316397, -0.8495791 , -0.75016328],\n",
       "       [ 0.62829225,  0.56056027,  0.69024669],\n",
       "       [-1.42022639, -1.45119419, -1.37192688],\n",
       "       [-0.30388359, -0.35850997, -0.26388303],\n",
       "       [-1.09606485, -1.12454813, -1.04250542],\n",
       "       [-0.06492321, -0.12540076, -0.11966261],\n",
       "       [-1.35873743, -1.3472958 , -1.34937665],\n",
       "       [-0.91973384, -0.94439342, -0.87884913],\n",
       "       [ 1.21599028,  1.29848313,  1.15433984],\n",
       "       [-0.73279461, -0.76591865, -0.6845479 ],\n",
       "       [ 0.2804782 ,  0.21504829,  0.24482653],\n",
       "       [-0.80142407, -0.85069088, -0.78930198],\n",
       "       [ 0.16676483,  0.56642741,  0.23264856],\n",
       "       [ 0.02481429, -0.03694992,  0.08931268],\n",
       "       [-0.08816775, -0.12174597, -0.02723182],\n",
       "       [ 1.47837538,  1.39577006,  1.45792732],\n",
       "       [ 2.05780496,  1.97340941,  2.12985717],\n",
       "       [ 1.32492818,  1.24552863,  1.38672624],\n",
       "       [ 1.46972313,  1.41319247,  1.54832278],\n",
       "       [-0.4759544 , -0.5305386 , -0.58508885],\n",
       "       [-0.4759544 , -0.5305386 , -0.45608793],\n",
       "       [ 0.24294167,  0.17804996,  0.24434136],\n",
       "       [-0.20174964, -0.16271855, -0.22772484],\n",
       "       [ 1.52344793,  1.46042203,  1.21131578],\n",
       "       [ 1.10483238,  1.12492904,  1.06371436],\n",
       "       [ 1.34649251,  1.31809443,  1.10783341],\n",
       "       [-1.03722803, -1.0810441 , -1.36060943],\n",
       "       [-1.06832061, -1.11339427, -1.02306919],\n",
       "       [ 0.35401608,  0.28889191,  0.41146332],\n",
       "       [-0.35284426, -0.27040203, -0.76444942],\n",
       "       [-0.51709121, -0.56290032, -0.66568115],\n",
       "       [-1.40412236, -1.41419587, -1.3550596 ],\n",
       "       [ 0.98199874,  1.01809671,  1.02601785],\n",
       "       [-0.83976445, -0.88913235, -0.87975772],\n",
       "       [ 1.83655704,  1.75035384,  1.89616245],\n",
       "       [-0.76724722, -0.75970894, -0.71047877],\n",
       "       [ 0.47776161,  0.40950306,  0.30967829],\n",
       "       [ 1.77760047,  1.69194659,  1.83410926],\n",
       "       [-1.26376779, -1.26692338, -1.21191786],\n",
       "       [-0.88249724, -0.93012875, -0.84419341],\n",
       "       [ 0.2147532 ,  0.15140126,  0.27207792],\n",
       "       [-0.15900514,  0.24542361, -0.10450376],\n",
       "       [ 0.81709186,  0.743968  ,  0.86017981],\n",
       "       [-0.32175169, -0.03799095, -0.27180766],\n",
       "       [-0.39478492, -0.42218082, -0.43370705],\n",
       "       [-0.06492321, -0.12540076, -0.41038137],\n",
       "       [-1.57510111, -1.60669888, -1.53010655],\n",
       "       [-1.65882642, -1.69645064, -1.69978525],\n",
       "       [-1.06863263, -1.10646299, -1.01480547],\n",
       "       [-1.43009083, -1.46484378, -1.37992436]])"
      ]
     },
     "execution_count": 28,
     "metadata": {},
     "output_type": "execute_result"
    }
   ],
   "source": [
    "x_train"
   ]
  },
  {
   "cell_type": "code",
   "execution_count": 29,
   "id": "e720344f",
   "metadata": {},
   "outputs": [
    {
     "data": {
      "text/html": [
       "<style>#sk-container-id-1 {color: black;background-color: white;}#sk-container-id-1 pre{padding: 0;}#sk-container-id-1 div.sk-toggleable {background-color: white;}#sk-container-id-1 label.sk-toggleable__label {cursor: pointer;display: block;width: 100%;margin-bottom: 0;padding: 0.3em;box-sizing: border-box;text-align: center;}#sk-container-id-1 label.sk-toggleable__label-arrow:before {content: \"▸\";float: left;margin-right: 0.25em;color: #696969;}#sk-container-id-1 label.sk-toggleable__label-arrow:hover:before {color: black;}#sk-container-id-1 div.sk-estimator:hover label.sk-toggleable__label-arrow:before {color: black;}#sk-container-id-1 div.sk-toggleable__content {max-height: 0;max-width: 0;overflow: hidden;text-align: left;background-color: #f0f8ff;}#sk-container-id-1 div.sk-toggleable__content pre {margin: 0.2em;color: black;border-radius: 0.25em;background-color: #f0f8ff;}#sk-container-id-1 input.sk-toggleable__control:checked~div.sk-toggleable__content {max-height: 200px;max-width: 100%;overflow: auto;}#sk-container-id-1 input.sk-toggleable__control:checked~label.sk-toggleable__label-arrow:before {content: \"▾\";}#sk-container-id-1 div.sk-estimator input.sk-toggleable__control:checked~label.sk-toggleable__label {background-color: #d4ebff;}#sk-container-id-1 div.sk-label input.sk-toggleable__control:checked~label.sk-toggleable__label {background-color: #d4ebff;}#sk-container-id-1 input.sk-hidden--visually {border: 0;clip: rect(1px 1px 1px 1px);clip: rect(1px, 1px, 1px, 1px);height: 1px;margin: -1px;overflow: hidden;padding: 0;position: absolute;width: 1px;}#sk-container-id-1 div.sk-estimator {font-family: monospace;background-color: #f0f8ff;border: 1px dotted black;border-radius: 0.25em;box-sizing: border-box;margin-bottom: 0.5em;}#sk-container-id-1 div.sk-estimator:hover {background-color: #d4ebff;}#sk-container-id-1 div.sk-parallel-item::after {content: \"\";width: 100%;border-bottom: 1px solid gray;flex-grow: 1;}#sk-container-id-1 div.sk-label:hover label.sk-toggleable__label {background-color: #d4ebff;}#sk-container-id-1 div.sk-serial::before {content: \"\";position: absolute;border-left: 1px solid gray;box-sizing: border-box;top: 0;bottom: 0;left: 50%;z-index: 0;}#sk-container-id-1 div.sk-serial {display: flex;flex-direction: column;align-items: center;background-color: white;padding-right: 0.2em;padding-left: 0.2em;position: relative;}#sk-container-id-1 div.sk-item {position: relative;z-index: 1;}#sk-container-id-1 div.sk-parallel {display: flex;align-items: stretch;justify-content: center;background-color: white;position: relative;}#sk-container-id-1 div.sk-item::before, #sk-container-id-1 div.sk-parallel-item::before {content: \"\";position: absolute;border-left: 1px solid gray;box-sizing: border-box;top: 0;bottom: 0;left: 50%;z-index: -1;}#sk-container-id-1 div.sk-parallel-item {display: flex;flex-direction: column;z-index: 1;position: relative;background-color: white;}#sk-container-id-1 div.sk-parallel-item:first-child::after {align-self: flex-end;width: 50%;}#sk-container-id-1 div.sk-parallel-item:last-child::after {align-self: flex-start;width: 50%;}#sk-container-id-1 div.sk-parallel-item:only-child::after {width: 0;}#sk-container-id-1 div.sk-dashed-wrapped {border: 1px dashed gray;margin: 0 0.4em 0.5em 0.4em;box-sizing: border-box;padding-bottom: 0.4em;background-color: white;}#sk-container-id-1 div.sk-label label {font-family: monospace;font-weight: bold;display: inline-block;line-height: 1.2em;}#sk-container-id-1 div.sk-label-container {text-align: center;}#sk-container-id-1 div.sk-container {/* jupyter's `normalize.less` sets `[hidden] { display: none; }` but bootstrap.min.css set `[hidden] { display: none !important; }` so we also need the `!important` here to be able to override the default hidden behavior on the sphinx rendered scikit-learn.org. See: https://github.com/scikit-learn/scikit-learn/issues/21755 */display: inline-block !important;position: relative;}#sk-container-id-1 div.sk-text-repr-fallback {display: none;}</style><div id=\"sk-container-id-1\" class=\"sk-top-container\"><div class=\"sk-text-repr-fallback\"><pre>SVC()</pre><b>In a Jupyter environment, please rerun this cell to show the HTML representation or trust the notebook. <br />On GitHub, the HTML representation is unable to render, please try loading this page with nbviewer.org.</b></div><div class=\"sk-container\" hidden><div class=\"sk-item\"><div class=\"sk-estimator sk-toggleable\"><input class=\"sk-toggleable__control sk-hidden--visually\" id=\"sk-estimator-id-1\" type=\"checkbox\" checked><label for=\"sk-estimator-id-1\" class=\"sk-toggleable__label sk-toggleable__label-arrow\">SVC</label><div class=\"sk-toggleable__content\"><pre>SVC()</pre></div></div></div></div></div>"
      ],
      "text/plain": [
       "SVC()"
      ]
     },
     "execution_count": 29,
     "metadata": {},
     "output_type": "execute_result"
    }
   ],
   "source": [
    "model.fit(x_train,y_train)"
   ]
  },
  {
   "cell_type": "code",
   "execution_count": 30,
   "id": "4a6847c7",
   "metadata": {},
   "outputs": [],
   "source": [
    "y_pred=model.predict(x_test)"
   ]
  },
  {
   "cell_type": "code",
   "execution_count": 31,
   "id": "e458c728",
   "metadata": {},
   "outputs": [],
   "source": [
    "from sklearn.metrics import r2_score"
   ]
  },
  {
   "cell_type": "code",
   "execution_count": 32,
   "id": "a77c4c29",
   "metadata": {},
   "outputs": [],
   "source": [
    "model.acc=r2_score(y_test,y_pred)"
   ]
  },
  {
   "cell_type": "code",
   "execution_count": 33,
   "id": "d06f6fd6",
   "metadata": {},
   "outputs": [
    {
     "name": "stdout",
     "output_type": "stream",
     "text": [
      "the accuracy prediction for the crypto is: 0.9008772091122261\n"
     ]
    }
   ],
   "source": [
    "print(\"the accuracy prediction for the crypto is:\",model.acc)"
   ]
  },
  {
   "cell_type": "code",
   "execution_count": null,
   "id": "02cad157",
   "metadata": {},
   "outputs": [],
   "source": []
  }
 ],
 "metadata": {
  "kernelspec": {
   "display_name": "Python 3 (ipykernel)",
   "language": "python",
   "name": "python3"
  },
  "language_info": {
   "codemirror_mode": {
    "name": "ipython",
    "version": 3
   },
   "file_extension": ".py",
   "mimetype": "text/x-python",
   "name": "python",
   "nbconvert_exporter": "python",
   "pygments_lexer": "ipython3",
   "version": "3.10.8"
  }
 },
 "nbformat": 4,
 "nbformat_minor": 5
}
