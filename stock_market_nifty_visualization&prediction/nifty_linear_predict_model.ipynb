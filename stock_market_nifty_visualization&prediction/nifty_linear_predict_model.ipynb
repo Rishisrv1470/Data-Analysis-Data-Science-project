{
 "cells": [
  {
   "cell_type": "code",
   "execution_count": 1,
   "id": "9f6c4551",
   "metadata": {},
   "outputs": [],
   "source": [
    "import pandas as pd\n",
    "import numpy as np\n",
    "import matplotlib.pyplot as plt"
   ]
  },
  {
   "cell_type": "code",
   "execution_count": 2,
   "id": "4c3b2423",
   "metadata": {},
   "outputs": [],
   "source": [
    "ds=pd.read_csv('nifty.csv')"
   ]
  },
  {
   "cell_type": "code",
   "execution_count": 3,
   "id": "742b82e6",
   "metadata": {},
   "outputs": [
    {
     "data": {
      "text/html": [
       "<div>\n",
       "<style scoped>\n",
       "    .dataframe tbody tr th:only-of-type {\n",
       "        vertical-align: middle;\n",
       "    }\n",
       "\n",
       "    .dataframe tbody tr th {\n",
       "        vertical-align: top;\n",
       "    }\n",
       "\n",
       "    .dataframe thead th {\n",
       "        text-align: right;\n",
       "    }\n",
       "</style>\n",
       "<table border=\"1\" class=\"dataframe\">\n",
       "  <thead>\n",
       "    <tr style=\"text-align: right;\">\n",
       "      <th></th>\n",
       "      <th>Date</th>\n",
       "      <th>Open</th>\n",
       "      <th>High</th>\n",
       "      <th>Low</th>\n",
       "      <th>Close</th>\n",
       "      <th>Adj Close</th>\n",
       "      <th>Volume</th>\n",
       "    </tr>\n",
       "  </thead>\n",
       "  <tbody>\n",
       "    <tr>\n",
       "      <th>0</th>\n",
       "      <td>2022-05-31</td>\n",
       "      <td>16578.449219</td>\n",
       "      <td>16690.750000</td>\n",
       "      <td>16521.900391</td>\n",
       "      <td>16584.550781</td>\n",
       "      <td>16584.550781</td>\n",
       "      <td>651600</td>\n",
       "    </tr>\n",
       "    <tr>\n",
       "      <th>1</th>\n",
       "      <td>2022-06-01</td>\n",
       "      <td>16594.400391</td>\n",
       "      <td>16649.199219</td>\n",
       "      <td>16438.849609</td>\n",
       "      <td>16522.750000</td>\n",
       "      <td>16522.750000</td>\n",
       "      <td>249600</td>\n",
       "    </tr>\n",
       "    <tr>\n",
       "      <th>2</th>\n",
       "      <td>2022-06-02</td>\n",
       "      <td>16481.650391</td>\n",
       "      <td>16646.400391</td>\n",
       "      <td>16443.050781</td>\n",
       "      <td>16628.000000</td>\n",
       "      <td>16628.000000</td>\n",
       "      <td>236000</td>\n",
       "    </tr>\n",
       "    <tr>\n",
       "      <th>3</th>\n",
       "      <td>2022-06-03</td>\n",
       "      <td>16761.650391</td>\n",
       "      <td>16793.849609</td>\n",
       "      <td>16567.900391</td>\n",
       "      <td>16584.300781</td>\n",
       "      <td>16584.300781</td>\n",
       "      <td>245500</td>\n",
       "    </tr>\n",
       "    <tr>\n",
       "      <th>4</th>\n",
       "      <td>2022-06-06</td>\n",
       "      <td>16530.699219</td>\n",
       "      <td>16610.949219</td>\n",
       "      <td>16444.550781</td>\n",
       "      <td>16569.550781</td>\n",
       "      <td>16569.550781</td>\n",
       "      <td>233600</td>\n",
       "    </tr>\n",
       "    <tr>\n",
       "      <th>...</th>\n",
       "      <td>...</td>\n",
       "      <td>...</td>\n",
       "      <td>...</td>\n",
       "      <td>...</td>\n",
       "      <td>...</td>\n",
       "      <td>...</td>\n",
       "      <td>...</td>\n",
       "    </tr>\n",
       "    <tr>\n",
       "      <th>244</th>\n",
       "      <td>2023-05-25</td>\n",
       "      <td>18268.900391</td>\n",
       "      <td>18338.099609</td>\n",
       "      <td>18202.400391</td>\n",
       "      <td>18321.150391</td>\n",
       "      <td>18321.150391</td>\n",
       "      <td>235900</td>\n",
       "    </tr>\n",
       "    <tr>\n",
       "      <th>245</th>\n",
       "      <td>2023-05-26</td>\n",
       "      <td>18368.349609</td>\n",
       "      <td>18508.550781</td>\n",
       "      <td>18333.150391</td>\n",
       "      <td>18499.349609</td>\n",
       "      <td>18499.349609</td>\n",
       "      <td>198700</td>\n",
       "    </tr>\n",
       "    <tr>\n",
       "      <th>246</th>\n",
       "      <td>2023-05-29</td>\n",
       "      <td>18619.150391</td>\n",
       "      <td>18641.199219</td>\n",
       "      <td>18581.250000</td>\n",
       "      <td>18598.650391</td>\n",
       "      <td>18598.650391</td>\n",
       "      <td>265300</td>\n",
       "    </tr>\n",
       "    <tr>\n",
       "      <th>247</th>\n",
       "      <td>2023-05-30</td>\n",
       "      <td>18606.650391</td>\n",
       "      <td>18662.449219</td>\n",
       "      <td>18575.500000</td>\n",
       "      <td>18633.849609</td>\n",
       "      <td>18633.849609</td>\n",
       "      <td>234400</td>\n",
       "    </tr>\n",
       "    <tr>\n",
       "      <th>248</th>\n",
       "      <td>2023-05-31</td>\n",
       "      <td>18594.199219</td>\n",
       "      <td>18603.900391</td>\n",
       "      <td>18483.849609</td>\n",
       "      <td>18534.400391</td>\n",
       "      <td>18534.400391</td>\n",
       "      <td>0</td>\n",
       "    </tr>\n",
       "  </tbody>\n",
       "</table>\n",
       "<p>249 rows × 7 columns</p>\n",
       "</div>"
      ],
      "text/plain": [
       "           Date          Open          High           Low         Close  \\\n",
       "0    2022-05-31  16578.449219  16690.750000  16521.900391  16584.550781   \n",
       "1    2022-06-01  16594.400391  16649.199219  16438.849609  16522.750000   \n",
       "2    2022-06-02  16481.650391  16646.400391  16443.050781  16628.000000   \n",
       "3    2022-06-03  16761.650391  16793.849609  16567.900391  16584.300781   \n",
       "4    2022-06-06  16530.699219  16610.949219  16444.550781  16569.550781   \n",
       "..          ...           ...           ...           ...           ...   \n",
       "244  2023-05-25  18268.900391  18338.099609  18202.400391  18321.150391   \n",
       "245  2023-05-26  18368.349609  18508.550781  18333.150391  18499.349609   \n",
       "246  2023-05-29  18619.150391  18641.199219  18581.250000  18598.650391   \n",
       "247  2023-05-30  18606.650391  18662.449219  18575.500000  18633.849609   \n",
       "248  2023-05-31  18594.199219  18603.900391  18483.849609  18534.400391   \n",
       "\n",
       "        Adj Close  Volume  \n",
       "0    16584.550781  651600  \n",
       "1    16522.750000  249600  \n",
       "2    16628.000000  236000  \n",
       "3    16584.300781  245500  \n",
       "4    16569.550781  233600  \n",
       "..            ...     ...  \n",
       "244  18321.150391  235900  \n",
       "245  18499.349609  198700  \n",
       "246  18598.650391  265300  \n",
       "247  18633.849609  234400  \n",
       "248  18534.400391       0  \n",
       "\n",
       "[249 rows x 7 columns]"
      ]
     },
     "execution_count": 3,
     "metadata": {},
     "output_type": "execute_result"
    }
   ],
   "source": [
    "ds"
   ]
  },
  {
   "cell_type": "code",
   "execution_count": 4,
   "id": "9f82e255",
   "metadata": {},
   "outputs": [],
   "source": [
    "ds.drop(['Date','Adj Close','Volume'],axis=1,inplace=True)"
   ]
  },
  {
   "cell_type": "code",
   "execution_count": 5,
   "id": "6645f180",
   "metadata": {},
   "outputs": [
    {
     "data": {
      "text/html": [
       "<div>\n",
       "<style scoped>\n",
       "    .dataframe tbody tr th:only-of-type {\n",
       "        vertical-align: middle;\n",
       "    }\n",
       "\n",
       "    .dataframe tbody tr th {\n",
       "        vertical-align: top;\n",
       "    }\n",
       "\n",
       "    .dataframe thead th {\n",
       "        text-align: right;\n",
       "    }\n",
       "</style>\n",
       "<table border=\"1\" class=\"dataframe\">\n",
       "  <thead>\n",
       "    <tr style=\"text-align: right;\">\n",
       "      <th></th>\n",
       "      <th>Open</th>\n",
       "      <th>High</th>\n",
       "      <th>Low</th>\n",
       "      <th>Close</th>\n",
       "    </tr>\n",
       "  </thead>\n",
       "  <tbody>\n",
       "    <tr>\n",
       "      <th>0</th>\n",
       "      <td>16578.449219</td>\n",
       "      <td>16690.750000</td>\n",
       "      <td>16521.900391</td>\n",
       "      <td>16584.550781</td>\n",
       "    </tr>\n",
       "    <tr>\n",
       "      <th>1</th>\n",
       "      <td>16594.400391</td>\n",
       "      <td>16649.199219</td>\n",
       "      <td>16438.849609</td>\n",
       "      <td>16522.750000</td>\n",
       "    </tr>\n",
       "    <tr>\n",
       "      <th>2</th>\n",
       "      <td>16481.650391</td>\n",
       "      <td>16646.400391</td>\n",
       "      <td>16443.050781</td>\n",
       "      <td>16628.000000</td>\n",
       "    </tr>\n",
       "    <tr>\n",
       "      <th>3</th>\n",
       "      <td>16761.650391</td>\n",
       "      <td>16793.849609</td>\n",
       "      <td>16567.900391</td>\n",
       "      <td>16584.300781</td>\n",
       "    </tr>\n",
       "    <tr>\n",
       "      <th>4</th>\n",
       "      <td>16530.699219</td>\n",
       "      <td>16610.949219</td>\n",
       "      <td>16444.550781</td>\n",
       "      <td>16569.550781</td>\n",
       "    </tr>\n",
       "    <tr>\n",
       "      <th>...</th>\n",
       "      <td>...</td>\n",
       "      <td>...</td>\n",
       "      <td>...</td>\n",
       "      <td>...</td>\n",
       "    </tr>\n",
       "    <tr>\n",
       "      <th>244</th>\n",
       "      <td>18268.900391</td>\n",
       "      <td>18338.099609</td>\n",
       "      <td>18202.400391</td>\n",
       "      <td>18321.150391</td>\n",
       "    </tr>\n",
       "    <tr>\n",
       "      <th>245</th>\n",
       "      <td>18368.349609</td>\n",
       "      <td>18508.550781</td>\n",
       "      <td>18333.150391</td>\n",
       "      <td>18499.349609</td>\n",
       "    </tr>\n",
       "    <tr>\n",
       "      <th>246</th>\n",
       "      <td>18619.150391</td>\n",
       "      <td>18641.199219</td>\n",
       "      <td>18581.250000</td>\n",
       "      <td>18598.650391</td>\n",
       "    </tr>\n",
       "    <tr>\n",
       "      <th>247</th>\n",
       "      <td>18606.650391</td>\n",
       "      <td>18662.449219</td>\n",
       "      <td>18575.500000</td>\n",
       "      <td>18633.849609</td>\n",
       "    </tr>\n",
       "    <tr>\n",
       "      <th>248</th>\n",
       "      <td>18594.199219</td>\n",
       "      <td>18603.900391</td>\n",
       "      <td>18483.849609</td>\n",
       "      <td>18534.400391</td>\n",
       "    </tr>\n",
       "  </tbody>\n",
       "</table>\n",
       "<p>249 rows × 4 columns</p>\n",
       "</div>"
      ],
      "text/plain": [
       "             Open          High           Low         Close\n",
       "0    16578.449219  16690.750000  16521.900391  16584.550781\n",
       "1    16594.400391  16649.199219  16438.849609  16522.750000\n",
       "2    16481.650391  16646.400391  16443.050781  16628.000000\n",
       "3    16761.650391  16793.849609  16567.900391  16584.300781\n",
       "4    16530.699219  16610.949219  16444.550781  16569.550781\n",
       "..            ...           ...           ...           ...\n",
       "244  18268.900391  18338.099609  18202.400391  18321.150391\n",
       "245  18368.349609  18508.550781  18333.150391  18499.349609\n",
       "246  18619.150391  18641.199219  18581.250000  18598.650391\n",
       "247  18606.650391  18662.449219  18575.500000  18633.849609\n",
       "248  18594.199219  18603.900391  18483.849609  18534.400391\n",
       "\n",
       "[249 rows x 4 columns]"
      ]
     },
     "execution_count": 5,
     "metadata": {},
     "output_type": "execute_result"
    }
   ],
   "source": [
    "ds"
   ]
  },
  {
   "cell_type": "code",
   "execution_count": 6,
   "id": "e1f7bfb8",
   "metadata": {},
   "outputs": [
    {
     "data": {
      "text/plain": [
       "Open     0\n",
       "High     0\n",
       "Low      0\n",
       "Close    0\n",
       "dtype: int64"
      ]
     },
     "execution_count": 6,
     "metadata": {},
     "output_type": "execute_result"
    }
   ],
   "source": [
    "ds.isnull().sum()"
   ]
  },
  {
   "cell_type": "code",
   "execution_count": 7,
   "id": "c9497b84",
   "metadata": {},
   "outputs": [
    {
     "data": {
      "text/plain": [
       "0"
      ]
     },
     "execution_count": 7,
     "metadata": {},
     "output_type": "execute_result"
    }
   ],
   "source": [
    "ds.duplicated().sum()"
   ]
  },
  {
   "cell_type": "code",
   "execution_count": 8,
   "id": "67cb3999",
   "metadata": {},
   "outputs": [
    {
     "data": {
      "text/plain": [
       "Open     4.366102e+06\n",
       "High     4.385184e+06\n",
       "Low      4.341421e+06\n",
       "Close    4.364406e+06\n",
       "dtype: float64"
      ]
     },
     "execution_count": 8,
     "metadata": {},
     "output_type": "execute_result"
    }
   ],
   "source": [
    "ds.dropna().sum()"
   ]
  },
  {
   "cell_type": "code",
   "execution_count": 9,
   "id": "41eff67e",
   "metadata": {},
   "outputs": [],
   "source": [
    "import seaborn as sns"
   ]
  },
  {
   "cell_type": "code",
   "execution_count": 10,
   "id": "4f81a559",
   "metadata": {},
   "outputs": [
    {
     "data": {
      "text/plain": [
       "<Axes: >"
      ]
     },
     "execution_count": 10,
     "metadata": {},
     "output_type": "execute_result"
    },
    {
     "data": {
      "image/png": "[encoded data removed]",
      "text/plain": [
       "<Figure size 640x480 with 1 Axes>"
      ]
     },
     "metadata": {},
     "output_type": "display_data"
    }
   ],
   "source": [
    "sns.scatterplot(ds)"
   ]
  },
  {
   "cell_type": "code",
   "execution_count": 11,
   "id": "5098d0ec",
   "metadata": {},
   "outputs": [
    {
     "data": {
      "image/png": "[encoded data removed]",
      "text/plain": [
       "<Figure size 640x480 with 1 Axes>"
      ]
     },
     "metadata": {},
     "output_type": "display_data"
    }
   ],
   "source": [
    "plt.plot(ds)\n",
    "plt.grid()"
   ]
  },
  {
   "cell_type": "code",
   "execution_count": 12,
   "id": "82e81fc9",
   "metadata": {},
   "outputs": [
    {
     "data": {
      "text/plain": [
       "<Axes: >"
      ]
     },
     "execution_count": 12,
     "metadata": {},
     "output_type": "execute_result"
    },
    {
     "data": {
      "image/png": "[encoded data removed]",
      "text/plain": [
       "<Figure size 640x480 with 1 Axes>"
      ]
     },
     "metadata": {},
     "output_type": "display_data"
    }
   ],
   "source": [
    "sns.barplot(ds)"
   ]
  },
  {
   "cell_type": "code",
   "execution_count": 13,
   "id": "4ad6915f",
   "metadata": {},
   "outputs": [
    {
     "data": {
      "text/plain": [
       "(array([[ 5., 12., 12., 12., 10., 29., 58., 57., 38., 16.],\n",
       "        [ 2., 13., 11., 12.,  6., 30., 50., 59., 47., 19.],\n",
       "        [ 7., 12., 11., 12., 21., 29., 60., 55., 31., 11.],\n",
       "        [ 4., 13., 10., 14., 15., 28., 55., 56., 40., 14.]]),\n",
       " array([15183.400391 , 15553.8203128, 15924.2402346, 16294.6601564,\n",
       "        16665.0800782, 17035.5      , 17405.9199218, 17776.3398436,\n",
       "        18146.7597654, 18517.1796872, 18887.599609 ]),\n",
       " <a list of 4 BarContainer objects>)"
      ]
     },
     "execution_count": 13,
     "metadata": {},
     "output_type": "execute_result"
    },
    {
     "data": {
      "image/png": "[encoded data removed]",
      "text/plain": [
       "<Figure size 640x480 with 1 Axes>"
      ]
     },
     "metadata": {},
     "output_type": "display_data"
    }
   ],
   "source": [
    "plt.hist(ds)"
   ]
  },
  {
   "cell_type": "code",
   "execution_count": 14,
   "id": "d680adbd",
   "metadata": {},
   "outputs": [],
   "source": [
    "x_raw=ds[['Open','High','Low']]\n",
    "y_raw=ds[['Close']]"
   ]
  },
  {
   "cell_type": "code",
   "execution_count": 15,
   "id": "1a1222ae",
   "metadata": {},
   "outputs": [],
   "source": [
    "from sklearn.preprocessing import StandardScaler,LabelEncoder"
   ]
  },
  {
   "cell_type": "code",
   "execution_count": 16,
   "id": "024e89cc",
   "metadata": {},
   "outputs": [],
   "source": [
    "scale=StandardScaler()"
   ]
  },
  {
   "cell_type": "code",
   "execution_count": 17,
   "id": "8e485527",
   "metadata": {},
   "outputs": [],
   "source": [
    "lab=LabelEncoder()"
   ]
  },
  {
   "cell_type": "code",
   "execution_count": 18,
   "id": "72cee851",
   "metadata": {},
   "outputs": [],
   "source": [
    "x=scale.fit_transform(x_raw)"
   ]
  },
  {
   "cell_type": "code",
   "execution_count": 19,
   "id": "e997a79a",
   "metadata": {},
   "outputs": [
    {
     "data": {
      "text/plain": [
       "array([[-1.20076199e+00, -1.17298579e+00, -1.14109166e+00],\n",
       "       [-1.18072891e+00, -1.22593758e+00, -1.24483089e+00],\n",
       "       [-1.32233172e+00, -1.22950437e+00, -1.23958318e+00],\n",
       "       [-9.70679496e-01, -1.04159695e+00, -1.08363279e+00],\n",
       "       [-1.26073126e+00, -1.27468290e+00, -1.23770952e+00],\n",
       "       [-1.33746631e+00, -1.43232362e+00, -1.35943637e+00],\n",
       "       [-1.33074773e+00, -1.39785044e+00, -1.42657581e+00],\n",
       "       [-1.59586790e+00, -1.42524977e+00, -1.48840656e+00],\n",
       "       [-1.57062356e+00, -1.63947504e+00, -1.57740536e+00],\n",
       "       [-2.08102213e+00, -2.19835737e+00, -2.18771805e+00],\n",
       "       [-2.33634652e+00, -2.23423187e+00, -2.21838336e+00],\n",
       "       [-2.26727197e+00, -2.32898208e+00, -2.19408800e+00],\n",
       "       [-2.13791419e+00, -2.22766828e+00, -2.62353162e+00],\n",
       "       [-2.84071579e+00, -2.81739104e+00, -2.81302002e+00],\n",
       "       [-2.76303882e+00, -2.84020307e+00, -2.80340288e+00],\n",
       "       [-2.61050942e+00, -2.42634577e+00, -2.51766989e+00],\n",
       "       [-2.49785487e+00, -2.60711712e+00, -2.56001385e+00],\n",
       "       [-2.61603587e+00, -2.52676725e+00, -2.58306009e+00],\n",
       "       [-2.35750796e+00, -2.37282150e+00, -2.26834760e+00],\n",
       "       [-2.01992207e+00, -2.14572542e+00, -2.02346062e+00],\n",
       "       [-2.23185533e+00, -2.19077576e+00, -2.15505344e+00],\n",
       "       [-2.30187180e+00, -2.22964458e+00, -2.18297169e+00],\n",
       "       [-2.21044246e+00, -2.19345148e+00, -2.13169614e+00],\n",
       "       [-2.29936000e+00, -2.31585614e+00, -2.40375118e+00],\n",
       "       [-2.29082011e+00, -2.24143266e+00, -2.21544845e+00],\n",
       "       [-2.04133493e+00, -2.02045339e+00, -2.06099601e+00],\n",
       "       [-2.15555935e+00, -2.03880507e+00, -2.04169707e+00],\n",
       "       [-1.78437812e+00, -1.86147357e+00, -1.73560390e+00],\n",
       "       [-1.58355909e+00, -1.70217515e+00, -1.59576624e+00],\n",
       "       [-1.75624545e+00, -1.73652013e+00, -1.64872882e+00],\n",
       "       [-1.76874191e+00, -1.85095987e+00, -1.75409042e+00],\n",
       "       [-1.76623011e+00, -1.87485463e+00, -1.85526801e+00],\n",
       "       [-1.90356359e+00, -1.96297902e+00, -1.97012355e+00],\n",
       "       [-1.91367335e+00, -1.96794838e+00, -1.88381081e+00],\n",
       "       [-1.73709296e+00, -1.68630877e+00, -1.61537745e+00],\n",
       "       [-1.69232083e+00, -1.59512661e+00, -1.55935553e+00],\n",
       "       [-1.22041488e+00, -1.30392909e+00, -1.17975296e+00],\n",
       "       [-1.26970899e+00, -1.25429270e+00, -1.18855769e+00],\n",
       "       [-1.09677243e+00, -1.09461096e+00, -1.02992123e+00],\n",
       "       [-1.09513878e+00, -1.15348667e+00, -1.08819251e+00],\n",
       "       [-1.13237672e+00, -1.24263156e+00, -1.21428879e+00],\n",
       "       [-1.33024488e+00, -1.22052143e+00, -1.24495531e+00],\n",
       "       [-9.54102588e-01, -8.45595173e-01, -8.60855226e-01],\n",
       "       [-5.71491918e-01, -5.58666358e-01, -5.21222821e-01],\n",
       "       [-3.65901937e-01, -3.24880990e-01, -3.50532002e-01],\n",
       "       [-2.81817907e-01, -2.81678759e-01, -2.74275546e-01],\n",
       "       [-2.32712676e-01, -2.59568637e-01, -2.61784486e-01],\n",
       "       [-8.97288611e-02, -1.53540602e-01, -3.42476244e-01],\n",
       "       [-1.39273166e-01, -1.74311623e-01, -1.08268873e-01],\n",
       "       [-1.67091859e-01, -7.94967052e-02, -9.45287071e-02],\n",
       "       [ 3.96289215e-02, -5.74512972e-02,  9.21052002e-03],\n",
       "       [ 2.22426265e-01,  1.37786342e-01,  2.45476965e-01],\n",
       "       [ 1.57119424e-01,  1.44603818e-01,  2.02882938e-01],\n",
       "       [ 3.29867107e-01,  2.90456456e-01,  4.10485816e-01],\n",
       "       [ 4.18974741e-01,  4.52111998e-01,  4.97047396e-01],\n",
       "       [ 4.57279715e-01,  4.55297966e-01,  5.20407142e-01],\n",
       "       [ 5.42555869e-01,  4.85564666e-01,  3.43907492e-01],\n",
       "       [ 1.86319117e-01,  1.00510512e-01,  3.98746079e-02],\n",
       "       [-2.22540371e-01,  1.83125258e-02, -1.12704175e-01],\n",
       "       [-1.14239359e-02,  1.58906928e-02,  7.97215770e-02],\n",
       "       [ 1.81420613e-01,  1.46960936e-01,  6.49811509e-02],\n",
       "       [ 1.06444316e-01,  9.51565910e-02,  1.04828119e-01],\n",
       "       [-4.34409854e-01, -2.94422633e-01, -3.36294145e-01],\n",
       "       [-1.50200974e-01,  2.12146349e-01, -4.23785325e-02],\n",
       "       [-6.13459928e-02,  1.07581868e-01,  4.12481373e-02],\n",
       "       [ 8.01954995e-02,  4.16323212e-02,  5.12409851e-02],\n",
       "       [ 1.49499809e-02,  9.17167416e-02,  1.31059344e-01],\n",
       "       [ 2.02393176e-01,  1.95579313e-01,  1.90143034e-01],\n",
       "       [-1.90206638e-02,  5.04260924e-02,  6.10484182e-02],\n",
       "       [ 2.68266645e-01,  2.50377970e-01,  3.20423324e-01],\n",
       "       [ 4.88299483e-01,  4.01136503e-01,  4.37902717e-01],\n",
       "       [ 4.47482707e-01,  4.70720044e-01,  5.66748487e-01],\n",
       "       [ 6.40388580e-01,  6.08035284e-01,  7.24509108e-01],\n",
       "       [ 2.97152363e-01,  6.12177043e-01,  4.19353981e-01],\n",
       "       [ 6.42775281e-01,  6.18038727e-01,  5.32210218e-01],\n",
       "       [ 3.29366708e-01,  2.66180870e-01,  7.72233651e-02],\n",
       "       [ 7.66722819e-03,  7.13887694e-02, -7.15471941e-03],\n",
       "       [ 2.96210437e-01,  3.92663817e-01,  3.85940396e-01],\n",
       "       [ 2.91123057e-01,  2.89946204e-01,  2.85011656e-01],\n",
       "       [ 9.43243835e-02,  1.42181983e-01,  1.21190920e-01],\n",
       "       [ 7.44801687e-02,  3.94668592e-02, -1.79592336e-01],\n",
       "       [-4.75037755e-01, -5.28591313e-01, -5.70999207e-01],\n",
       "       [-5.32056141e-01, -5.54016835e-01, -6.15906031e-01],\n",
       "       [-8.33911409e-01, -7.30965025e-01, -7.68233529e-01],\n",
       "       [-6.79374287e-01, -7.45682706e-01, -8.07956076e-01],\n",
       "       [-9.24964217e-01, -5.40444112e-01, -8.59044997e-01],\n",
       "       [-5.43109050e-01, -6.32772481e-01, -7.24326966e-01],\n",
       "       [-4.86154439e-01, -4.12749004e-01, -3.97373476e-01],\n",
       "       [-1.95035652e-01, -2.32423190e-01, -1.49613792e-01],\n",
       "       [-3.10642302e-01, -3.48967409e-01, -2.72902017e-01],\n",
       "       [-5.52842282e-01, -4.21861371e-01, -4.63078402e-01],\n",
       "       [-3.49761650e-01, -4.45245882e-01, -6.05974175e-01],\n",
       "       [-6.39246785e-01, -5.97472947e-01, -5.93795392e-01],\n",
       "       [-5.61633587e-01, -6.35704569e-01, -5.97669571e-01],\n",
       "       [-2.66558222e-01, -3.34692777e-01, -3.31858843e-01],\n",
       "       [-4.89480614e-01, -3.60180525e-01, -4.20794213e-01],\n",
       "       [-1.20309555e-01, -1.06258840e-01, -1.71915730e-03],\n",
       "       [ 4.22045002e-02, -4.56422114e-03,  4.67446908e-02],\n",
       "       [-1.39964893e-01, -3.44476085e-02, -1.80209659e-02],\n",
       "       [ 1.10901292e-01,  7.51497057e-02,  1.06577356e-01],\n",
       "       [ 2.53446033e-01,  2.12019407e-01,  3.39723475e-01],\n",
       "       [ 3.43809568e-01,  2.55283863e-01,  2.51785926e-01],\n",
       "       [ 2.97466338e-01,  2.20111270e-01,  2.73645280e-01],\n",
       "       [ 2.78627826e-01,  2.90202575e-01,  3.60082439e-01],\n",
       "       [ 4.71783897e-01,  5.24562911e-01,  5.80176376e-01],\n",
       "       [ 7.48710024e-01,  7.19544179e-01,  7.80345609e-01],\n",
       "       [ 8.07990014e-01,  7.23302626e-01,  7.65980891e-01],\n",
       "       [ 5.44815019e-01,  6.30974256e-01,  6.54246897e-01],\n",
       "       [ 6.51630364e-01,  6.67675119e-01,  7.26634052e-01],\n",
       "       [ 8.50501765e-01,  8.21111857e-01,  7.86091008e-01],\n",
       "       [ 9.46578176e-01,  8.73234799e-01,  8.51981349e-01],\n",
       "       [ 6.40263480e-01,  6.26894723e-01,  6.66989242e-01],\n",
       "       [ 9.26608863e-01,  9.57217424e-01,  1.02916654e+00],\n",
       "       [ 1.05728632e+00,  1.00455892e+00,  1.09418349e+00],\n",
       "       [ 1.04014279e+00,  1.04087896e+00,  1.05745928e+00],\n",
       "       [ 1.08472726e+00,  1.05897676e+00,  1.13509171e+00],\n",
       "       [ 1.03505541e+00,  1.02768955e+00,  1.09611814e+00],\n",
       "       [ 1.06551100e+00,  9.98378643e-01,  9.67274806e-01],\n",
       "       [ 8.94019219e-01,  8.29778687e-01,  8.71779190e-01],\n",
       "       [ 8.09559890e-01,  8.29203719e-01,  8.77212314e-01],\n",
       "       [ 9.92982730e-01,  9.10192033e-01,  1.01249147e+00],\n",
       "       [ 9.94113531e-01,  1.17054788e+00,  1.07276083e+00],\n",
       "       [ 1.24824457e+00,  1.17717619e+00,  1.26118798e+00],\n",
       "       [ 1.12529384e+00,  1.27829833e+00,  1.16188405e+00],\n",
       "       [ 1.27838619e+00,  1.35966746e+00,  1.39490575e+00],\n",
       "       [ 1.37038092e+00,  1.53547070e+00,  1.47534866e+00],\n",
       "       [ 1.67964649e+00,  1.62665162e+00,  1.67726469e+00],\n",
       "       [ 1.52950502e+00,  1.49201210e+00,  1.50363896e+00],\n",
       "       [ 1.48824917e+00,  1.42402403e+00,  1.44386973e+00],\n",
       "       [ 1.33892208e+00,  1.33010267e+00,  1.42707023e+00],\n",
       "       [ 1.38689651e+00,  1.34717996e+00,  1.36523948e+00],\n",
       "       [ 1.30149525e+00,  1.29199799e+00,  1.37591788e+00],\n",
       "       [ 1.41647395e+00,  1.34259018e+00,  1.21746927e+00],\n",
       "       [ 1.08962577e+00,  1.16016361e+00,  1.13702636e+00],\n",
       "       [ 1.24315964e+00,  1.28212149e+00,  1.31752217e+00],\n",
       "       [ 1.42758818e+00,  1.38260644e+00,  1.49577106e+00],\n",
       "       [ 1.35619071e+00,  1.32755390e+00,  1.18948881e+00],\n",
       "       [ 9.85322225e-01,  1.05744600e+00,  1.02392128e+00],\n",
       "       [ 9.46389300e-01,  1.04559569e+00,  1.01068124e+00],\n",
       "       [ 1.01194879e+00,  1.01150583e+00,  9.58343211e-01],\n",
       "       [ 1.13107050e+00,  1.09873665e+00,  9.08503394e-01],\n",
       "       [ 9.47269903e-01,  9.01716859e-01,  7.90899578e-01],\n",
       "       [ 5.56495878e-01,  5.59797731e-01,  4.29783528e-01],\n",
       "       [ 3.71564485e-01,  6.02681363e-01,  4.23225721e-01],\n",
       "       [ 6.97345643e-01,  6.85708199e-01,  6.64552021e-01],\n",
       "       [ 6.91002363e-01,  7.16101839e-01,  7.90587302e-01],\n",
       "       [ 6.41958456e-01,  7.88231668e-01,  6.96218809e-01],\n",
       "       [ 9.09968177e-01,  8.33537134e-01,  8.05515582e-01],\n",
       "       [ 7.49965925e-01,  7.69690825e-01,  8.13259064e-01],\n",
       "       [ 7.89526800e-01,  8.16586787e-01,  8.92328448e-01],\n",
       "       [ 8.74238781e-01,  8.05182015e-01,  7.30942491e-01],\n",
       "       [ 7.12602876e-01,  6.48815680e-01,  5.71056926e-01],\n",
       "       [ 5.94675753e-01,  5.55912343e-01,  4.49832654e-01],\n",
       "       [ 5.24973258e-01,  6.75704756e-01,  6.25456468e-01],\n",
       "       [ 7.36906518e-01,  6.58117214e-01,  5.25340135e-01],\n",
       "       [ 4.89430285e-01,  4.65366123e-01,  4.85805443e-01],\n",
       "       [ 4.85159731e-01,  4.26435083e-01,  4.07487474e-01],\n",
       "       [ 4.18157914e-01,  4.94677033e-01,  4.23225721e-01],\n",
       "       [ 6.26198373e-01,  5.58779715e-01,  5.22405225e-01],\n",
       "       [ 4.87610209e-01,  5.87326489e-01,  5.63998990e-01],\n",
       "       [ 6.77879181e-01,  7.29674563e-01,  7.45743910e-01],\n",
       "       [ 7.35022667e-01,  6.93289808e-01,  7.84841902e-01],\n",
       "       [ 7.29746412e-01,  6.80864532e-01,  7.25445938e-01],\n",
       "       [ 7.33325239e-01,  7.02720772e-01,  7.84466195e-01],\n",
       "       [ 8.15586742e-01,  7.51976342e-01,  8.03454070e-01],\n",
       "       [ 7.01802619e-01,  6.23708755e-01,  5.13036930e-01],\n",
       "       [ 4.30339171e-01,  3.48632738e-01,  7.26026485e-02],\n",
       "       [ 9.29842731e-03,  1.24850813e-01, -3.73186777e-02],\n",
       "       [ 2.47291629e-01,  1.58684305e-01,  1.27563312e-01],\n",
       "       [ 3.47952568e-01,  4.60076919e-01, -1.02460042e-01],\n",
       "       [-2.19102178e-02,  5.44409109e-02,  1.31432528e-02],\n",
       "       [ 2.35110372e-01,  3.30218836e-01,  1.85832154e-01],\n",
       "       [ 3.56682551e-01,  2.70830394e-01,  3.28418089e-01],\n",
       "       [ 3.20950701e-01,  2.54838326e-01,  2.71210499e-01],\n",
       "       [ 2.70967321e-01,  3.66409447e-01,  3.85628120e-01],\n",
       "       [ 4.40764129e-01,  3.89604791e-01,  4.30159235e-01],\n",
       "       [ 3.93103674e-01,  3.38691521e-01,  4.56639306e-01],\n",
       "       [ 4.07607856e-01,  3.43470474e-01,  3.55149446e-01],\n",
       "       [ 3.84059716e-01,  4.37585972e-01,  4.55453631e-01],\n",
       "       [ 4.54704136e-01,  5.38961994e-01,  5.22593078e-01],\n",
       "       [ 7.03561371e-01,  6.67229582e-01,  7.06023804e-01],\n",
       "       [ 5.52978374e-01,  5.39153651e-01,  5.61064078e-01],\n",
       "       [ 5.41299969e-01,  5.01048970e-01,  4.78374239e-01],\n",
       "       [ 4.66259896e-01,  3.99799890e-01,  4.55765908e-01],\n",
       "       [ 2.77308148e-01,  2.05582755e-01,  1.17443602e-01],\n",
       "       [ 5.03678554e-02,  1.13033953e-02,  2.49487682e-02],\n",
       "       [ 7.13404167e-02, -1.45676638e-02, -1.70207055e-02],\n",
       "       [-1.33057439e-01, -2.03368652e-01, -1.70411895e-01],\n",
       "       [-1.90012049e-01, -2.17578568e-01, -2.25123713e-01],\n",
       "       [-2.19086644e-01, -1.82786797e-01, -1.12640744e-01],\n",
       "       [-1.41973843e-01, -2.10758605e-01, -1.61668154e-01],\n",
       "       [-1.04610795e-01,  4.27797681e-02, -9.65293137e-03],\n",
       "       [ 1.83115588e-01,  2.40563693e-01,  2.95441204e-01],\n",
       "       [ 1.64779927e-01,  1.97936431e-01,  2.08379493e-01],\n",
       "       [ 2.98283163e-01,  2.05391099e-01,  1.72592118e-01],\n",
       "       [-1.13966275e-01, -2.03495592e-01, -1.38747547e-01],\n",
       "       [-1.41470992e-01, -1.03583124e-01, -4.02184485e-01],\n",
       "       [-4.69700177e-01, -4.92589870e-01, -5.60008539e-01],\n",
       "       [-4.62292324e-01, -5.09540218e-01, -6.20214470e-01],\n",
       "       [-6.78054609e-01, -6.99296996e-01, -7.31072626e-01],\n",
       "       [-5.30925341e-01, -5.93074817e-01, -5.96169180e-01],\n",
       "       [-5.87693529e-01, -6.94007791e-01, -7.58304113e-01],\n",
       "       [-5.95479132e-01, -6.16143219e-01, -5.23908888e-01],\n",
       "       [-4.48477415e-01, -5.14764708e-01, -4.09178992e-01],\n",
       "       [-5.49010802e-01, -5.17121827e-01, -4.87309107e-01],\n",
       "       [-5.75637371e-01, -6.39400789e-01, -6.47133681e-01],\n",
       "       [-6.91052693e-01, -6.62912241e-01, -6.45633290e-01],\n",
       "       [-6.31461181e-01, -7.00188072e-01, -6.51629974e-01],\n",
       "       [-6.99843999e-01, -6.18117026e-01, -6.18091967e-01],\n",
       "       [-4.07157789e-01, -2.92575768e-01, -2.88264556e-01],\n",
       "       [-1.33874264e-01, -2.33378981e-01, -1.53236688e-01],\n",
       "       [-1.40968142e-01, -5.17787798e-02, -4.08805809e-02],\n",
       "       [-8.73879378e-04,  3.50687292e-02,  8.42178701e-02],\n",
       "       [ 1.26035879e-01,  1.05670287e-01,  2.03007362e-01],\n",
       "       [ 2.13823835e-01,  1.75316055e-01,  2.74457688e-01],\n",
       "       [ 2.82584403e-01,  2.73443883e-01,  3.52026681e-01],\n",
       "       [ 3.42553667e-01,  2.94344334e-01,  3.67516083e-01],\n",
       "       [ 4.12506361e-01,  3.20914813e-01,  1.73155680e-01],\n",
       "       [ 2.91437032e-01,  1.98063371e-01,  2.18308910e-01],\n",
       "       [ 1.49206266e-01,  7.00521562e-02,  1.80399031e-01],\n",
       "       [ 1.30681730e-01,  9.33719516e-02,  1.86020007e-01],\n",
       "       [ 1.32126507e-01,  6.62912199e-02,  1.48046699e-01],\n",
       "       [ 2.17277562e-01,  1.82643783e-01,  2.21182829e-01],\n",
       "       [ 2.85096205e-01,  2.50121599e-01,  3.51526550e-01],\n",
       "       [ 2.92317635e-01,  2.75992658e-01,  3.44468614e-01],\n",
       "       [ 3.49836419e-01,  4.08337288e-01,  4.52767566e-01],\n",
       "       [ 5.22272582e-01,  6.09118016e-01,  5.61939916e-01],\n",
       "       [ 7.41302171e-01,  7.25214207e-01,  8.32307930e-01],\n",
       "       [ 7.27487262e-01,  6.43780356e-01,  7.58173978e-01],\n",
       "       [ 6.86292735e-01,  8.36339791e-01,  7.88525790e-01],\n",
       "       [ 7.31882915e-01,  7.71983229e-01,  7.74473347e-01],\n",
       "       [ 7.36025916e-01,  8.61190345e-01,  8.30497702e-01],\n",
       "       [ 9.65605565e-01,  9.34149022e-01,  9.92069073e-01],\n",
       "       [ 9.78414771e-01,  9.11911958e-01,  9.69958433e-01],\n",
       "       [ 1.03392706e+00,  9.92133648e-01,  1.04297014e+00],\n",
       "       [ 9.28367615e-01,  9.32302156e-01,  9.48225940e-01],\n",
       "       [ 1.01069289e+00,  1.08032275e+00,  1.06482950e+00],\n",
       "       [ 1.12755299e+00,  1.04648677e+00,  1.03541207e+00],\n",
       "       [ 9.61899185e-01,  8.89291582e-01,  8.49295283e-01],\n",
       "       [ 9.45636251e-01,  8.74252816e-01,  8.36179670e-01],\n",
       "       [ 8.18351196e-01,  7.73449271e-01,  7.80657886e-01],\n",
       "       [ 8.37125930e-01,  9.22744251e-01,  9.28613512e-01],\n",
       "       [ 1.04033166e+00,  1.03042998e+00,  1.11017058e+00],\n",
       "       [ 9.54805307e-01,  9.95829868e-01,  1.03366284e+00],\n",
       "       [ 9.22276987e-01,  9.26375756e-01,  9.58030935e-01],\n",
       "       [ 1.04717534e+00,  1.14359658e+00,  1.12135154e+00],\n",
       "       [ 1.36215624e+00,  1.31264207e+00,  1.43125425e+00],\n",
       "       [ 1.34645748e+00,  1.33972280e+00,  1.42407189e+00],\n",
       "       [ 1.33082005e+00,  1.26510892e+00,  1.30959084e+00]])"
      ]
     },
     "execution_count": 19,
     "metadata": {},
     "output_type": "execute_result"
    }
   ],
   "source": [
    "x"
   ]
  },
  {
   "cell_type": "code",
   "execution_count": 20,
   "id": "8749e787",
   "metadata": {},
   "outputs": [
    {
     "name": "stderr",
     "output_type": "stream",
     "text": [
      "C:\\Users\\Admin\\AppData\\Local\\Programs\\Python\\Python310\\lib\\site-packages\\sklearn\\preprocessing\\_label.py:115: DataConversionWarning: A column-vector y was passed when a 1d array was expected. Please change the shape of y to (n_samples, ), for example using ravel().\n",
      "  y = column_or_1d(y, warn=True)\n"
     ]
    }
   ],
   "source": [
    "y=lab.fit_transform(y_raw)"
   ]
  },
  {
   "cell_type": "code",
   "execution_count": 21,
   "id": "8eb04823",
   "metadata": {},
   "outputs": [
    {
     "data": {
      "text/plain": [
       "array([ 36,  33,  38,  35,  34,  29,  28,  30,  23,  10,   8,   6,   2,\n",
       "         0,   1,   5,   3,   4,   7,  14,  16,  12,  11,   9,  15,  13,\n",
       "        19,  22,  25,  24,  21,  18,  17,  20,  26,  27,  32,  37,  41,\n",
       "        39,  31,  40,  45,  65,  76,  77,  80,  79,  82,  92,  94, 119,\n",
       "       123, 144, 164, 165, 133,  88, 102, 107,  91,  99,  71, 134,  96,\n",
       "        95, 122, 117, 113, 139, 147, 162, 180, 168, 154,  93, 111, 143,\n",
       "       126, 115,  74,  55,  53,  43,  42,  59,  44,  68,  75,  72,  67,\n",
       "        49,  62,  54,  66,  70,  87,  90, 100, 101, 129, 118, 130, 138,\n",
       "       169, 193, 181, 176, 186, 202, 195, 173, 222, 219, 225, 226, 220,\n",
       "       214, 196, 205, 209, 229, 233, 236, 240, 246, 247, 244, 245, 242,\n",
       "       235, 239, 230, 231, 238, 243, 227, 210, 228, 223, 201, 190, 140,\n",
       "       170, 192, 189, 199, 184, 200, 204, 175, 167, 152, 183, 159, 158,\n",
       "       151, 166, 157, 177, 197, 185, 172, 188, 187, 155, 106, 116, 121,\n",
       "       109, 108, 149, 135, 127, 153, 156, 150, 137, 161, 171, 174, 163,\n",
       "       148, 145,  97,  89,  86,  81,  69,  85,  73, 104, 125, 132, 103,\n",
       "        84,  64,  56,  48,  50,  60,  52,  61,  63,  57,  46,  51,  47,\n",
       "        58,  78,  83,  98, 105, 112, 128, 141, 146, 124, 120, 110, 114,\n",
       "       112, 131, 136, 142, 160, 178, 194, 182, 206, 179, 207, 208, 217,\n",
       "       213, 216, 224, 212, 198, 191, 203, 215, 221, 211, 218, 232, 237,\n",
       "       241, 234], dtype=int64)"
      ]
     },
     "execution_count": 21,
     "metadata": {},
     "output_type": "execute_result"
    }
   ],
   "source": [
    "y"
   ]
  },
  {
   "cell_type": "code",
   "execution_count": 22,
   "id": "a33acc37",
   "metadata": {},
   "outputs": [],
   "source": [
    "from sklearn.model_selection import train_test_split"
   ]
  },
  {
   "cell_type": "code",
   "execution_count": 23,
   "id": "10c87344",
   "metadata": {},
   "outputs": [],
   "source": [
    "x_train,x_test,y_train,y_test=train_test_split(x,y,test_size=0.4)"
   ]
  },
  {
   "cell_type": "code",
   "execution_count": 24,
   "id": "3e8ec7d5",
   "metadata": {},
   "outputs": [
    {
     "data": {
      "text/plain": [
       "((149, 3), (149,))"
      ]
     },
     "execution_count": 24,
     "metadata": {},
     "output_type": "execute_result"
    }
   ],
   "source": [
    "x_train.shape,y_train.shape"
   ]
  },
  {
   "cell_type": "code",
   "execution_count": 25,
   "id": "38ada44f",
   "metadata": {},
   "outputs": [
    {
     "data": {
      "text/plain": [
       "array([[-1.59586790e+00, -1.42524977e+00, -1.48840656e+00],\n",
       "       [ 6.97345643e-01,  6.85708199e-01,  6.64552021e-01],\n",
       "       [-6.79374287e-01, -7.45682706e-01, -8.07956076e-01],\n",
       "       [-6.39246785e-01, -5.97472947e-01, -5.93795392e-01],\n",
       "       [ 4.30339171e-01,  3.48632738e-01,  7.26026485e-02],\n",
       "       [ 3.29366708e-01,  2.66180870e-01,  7.72233651e-02],\n",
       "       [ 2.96210437e-01,  3.92663817e-01,  3.85940396e-01],\n",
       "       [ 9.28367615e-01,  9.32302156e-01,  9.48225940e-01],\n",
       "       [ 4.57279715e-01,  4.55297966e-01,  5.20407142e-01],\n",
       "       [-1.20309555e-01, -1.06258840e-01, -1.71915730e-03],\n",
       "       [ 5.24973258e-01,  6.75704756e-01,  6.25456468e-01],\n",
       "       [-1.91367335e+00, -1.96794838e+00, -1.88381081e+00],\n",
       "       [-1.90206638e-02,  5.04260924e-02,  6.10484182e-02],\n",
       "       [ 1.48824917e+00,  1.42402403e+00,  1.44386973e+00],\n",
       "       [-1.09677243e+00, -1.09461096e+00, -1.02992123e+00],\n",
       "       [-1.26970899e+00, -1.25429270e+00, -1.18855769e+00],\n",
       "       [ 1.03392706e+00,  9.92133648e-01,  1.04297014e+00],\n",
       "       [ 1.86319117e-01,  1.00510512e-01,  3.98746079e-02],\n",
       "       [ 1.06551100e+00,  9.98378643e-01,  9.67274806e-01],\n",
       "       [-2.84071579e+00, -2.81739104e+00, -2.81302002e+00],\n",
       "       [-5.87693529e-01, -6.94007791e-01, -7.58304113e-01],\n",
       "       [ 3.71564485e-01,  6.02681363e-01,  4.23225721e-01],\n",
       "       [-8.97288611e-02, -1.53540602e-01, -3.42476244e-01],\n",
       "       [-1.40968142e-01, -5.17787798e-02, -4.08805809e-02],\n",
       "       [ 8.07990014e-01,  7.23302626e-01,  7.65980891e-01],\n",
       "       [-2.29936000e+00, -2.31585614e+00, -2.40375118e+00],\n",
       "       [ 2.77308148e-01,  2.05582755e-01,  1.17443602e-01],\n",
       "       [ 1.12755299e+00,  1.04648677e+00,  1.03541207e+00],\n",
       "       [ 1.24315964e+00,  1.28212149e+00,  1.31752217e+00],\n",
       "       [ 4.89430285e-01,  4.65366123e-01,  4.85805443e-01],\n",
       "       [ 7.29746412e-01,  6.80864532e-01,  7.25445938e-01],\n",
       "       [ 1.64779927e-01,  1.97936431e-01,  2.08379493e-01],\n",
       "       [ 2.53446033e-01,  2.12019407e-01,  3.39723475e-01],\n",
       "       [ 1.12529384e+00,  1.27829833e+00,  1.16188405e+00],\n",
       "       [ 4.54704136e-01,  5.38961994e-01,  5.22593078e-01],\n",
       "       [ 2.97466338e-01,  2.20111270e-01,  2.73645280e-01],\n",
       "       [-2.32712676e-01, -2.59568637e-01, -2.61784486e-01],\n",
       "       [ 1.24824457e+00,  1.17717619e+00,  1.26118798e+00],\n",
       "       [ 9.46389300e-01,  1.04559569e+00,  1.01068124e+00],\n",
       "       [ 1.05728632e+00,  1.00455892e+00,  1.09418349e+00],\n",
       "       [ 8.09559890e-01,  8.29203719e-01,  8.77212314e-01],\n",
       "       [-6.13459928e-02,  1.07581868e-01,  4.12481373e-02],\n",
       "       [ 2.92317635e-01,  2.75992658e-01,  3.44468614e-01],\n",
       "       [ 9.45636251e-01,  8.74252816e-01,  8.36179670e-01],\n",
       "       [-5.32056141e-01, -5.54016835e-01, -6.15906031e-01],\n",
       "       [ 9.22276987e-01,  9.26375756e-01,  9.58030935e-01],\n",
       "       [ 8.18351196e-01,  7.73449271e-01,  7.80657886e-01],\n",
       "       [ 1.04717534e+00,  1.14359658e+00,  1.12135154e+00],\n",
       "       [ 7.13404167e-02, -1.45676638e-02, -1.70207055e-02],\n",
       "       [-2.19102178e-02,  5.44409109e-02,  1.31432528e-02],\n",
       "       [ 4.66259896e-01,  3.99799890e-01,  4.55765908e-01],\n",
       "       [ 3.20950701e-01,  2.54838326e-01,  2.71210499e-01],\n",
       "       [-1.41470992e-01, -1.03583124e-01, -4.02184485e-01],\n",
       "       [-1.33874264e-01, -2.33378981e-01, -1.53236688e-01],\n",
       "       [ 7.27487262e-01,  6.43780356e-01,  7.58173978e-01],\n",
       "       [-1.76874191e+00, -1.85095987e+00, -1.75409042e+00],\n",
       "       [ 5.42555869e-01,  4.85564666e-01,  3.43907492e-01],\n",
       "       [ 8.94019219e-01,  8.29778687e-01,  8.71779190e-01],\n",
       "       [ 6.26198373e-01,  5.58779715e-01,  5.22405225e-01],\n",
       "       [ 5.44815019e-01,  6.30974256e-01,  6.54246897e-01],\n",
       "       [ 1.08962577e+00,  1.16016361e+00,  1.13702636e+00],\n",
       "       [-4.89480614e-01, -3.60180525e-01, -4.20794213e-01],\n",
       "       [-2.66558222e-01, -3.34692777e-01, -3.31858843e-01],\n",
       "       [ 2.98283163e-01,  2.05391099e-01,  1.72592118e-01],\n",
       "       [-4.07157789e-01, -2.92575768e-01, -2.88264556e-01],\n",
       "       [-2.22540371e-01,  1.83125258e-02, -1.12704175e-01],\n",
       "       [ 7.66722819e-03,  7.13887694e-02, -7.15471941e-03],\n",
       "       [-1.78437812e+00, -1.86147357e+00, -1.73560390e+00],\n",
       "       [ 1.04014279e+00,  1.04087896e+00,  1.05745928e+00],\n",
       "       [ 2.78627826e-01,  2.90202575e-01,  3.60082439e-01],\n",
       "       [-1.90356359e+00, -1.96297902e+00, -1.97012355e+00],\n",
       "       [-1.33074773e+00, -1.39785044e+00, -1.42657581e+00],\n",
       "       [ 1.30149525e+00,  1.29199799e+00,  1.37591788e+00],\n",
       "       [-2.04133493e+00, -2.02045339e+00, -2.06099601e+00],\n",
       "       [ 4.07607856e-01,  3.43470474e-01,  3.55149446e-01],\n",
       "       [-1.04610795e-01,  4.27797681e-02, -9.65293137e-03],\n",
       "       [-2.61050942e+00, -2.42634577e+00, -2.51766989e+00],\n",
       "       [ 4.18157914e-01,  4.94677033e-01,  4.23225721e-01],\n",
       "       [ 8.01954995e-02,  4.16323212e-02,  5.12409851e-02],\n",
       "       [-2.61603587e+00, -2.52676725e+00, -2.58306009e+00],\n",
       "       [ 9.47269903e-01,  9.01716859e-01,  7.90899578e-01],\n",
       "       [ 7.89526800e-01,  8.16586787e-01,  8.92328448e-01],\n",
       "       [ 1.49206266e-01,  7.00521562e-02,  1.80399031e-01],\n",
       "       [ 7.01802619e-01,  6.23708755e-01,  5.13036930e-01],\n",
       "       [ 2.17277562e-01,  1.82643783e-01,  2.21182829e-01],\n",
       "       [ 4.85159731e-01,  4.26435083e-01,  4.07487474e-01],\n",
       "       [ 2.22426265e-01,  1.37786342e-01,  2.45476965e-01],\n",
       "       [ 1.35619071e+00,  1.32755390e+00,  1.18948881e+00],\n",
       "       [-1.33746631e+00, -1.43232362e+00, -1.35943637e+00],\n",
       "       [-1.13966275e-01, -2.03495592e-01, -1.38747547e-01],\n",
       "       [-9.24964217e-01, -5.40444112e-01, -8.59044997e-01],\n",
       "       [-1.50200974e-01,  2.12146349e-01, -4.23785325e-02],\n",
       "       [ 8.37125930e-01,  9.22744251e-01,  9.28613512e-01],\n",
       "       [ 3.43809568e-01,  2.55283863e-01,  2.51785926e-01],\n",
       "       [ 2.91437032e-01,  1.98063371e-01,  2.18308910e-01],\n",
       "       [-4.48477415e-01, -5.14764708e-01, -4.09178992e-01],\n",
       "       [-2.23185533e+00, -2.19077576e+00, -2.15505344e+00],\n",
       "       [ 1.10901292e-01,  7.51497057e-02,  1.06577356e-01],\n",
       "       [ 9.65605565e-01,  9.34149022e-01,  9.92069073e-01],\n",
       "       [ 9.54805307e-01,  9.95829868e-01,  1.03366284e+00],\n",
       "       [-2.76303882e+00, -2.84020307e+00, -2.80340288e+00],\n",
       "       [ 1.33082005e+00,  1.26510892e+00,  1.30959084e+00],\n",
       "       [ 8.50501765e-01,  8.21111857e-01,  7.86091008e-01],\n",
       "       [-1.69232083e+00, -1.59512661e+00, -1.55935553e+00],\n",
       "       [ 2.02393176e-01,  1.95579313e-01,  1.90143034e-01],\n",
       "       [ 5.03678554e-02,  1.13033953e-02,  2.49487682e-02],\n",
       "       [-1.95035652e-01, -2.32423190e-01, -1.49613792e-01],\n",
       "       [-6.31461181e-01, -7.00188072e-01, -6.51629974e-01],\n",
       "       [-2.08102213e+00, -2.19835737e+00, -2.18771805e+00],\n",
       "       [-4.69700177e-01, -4.92589870e-01, -5.60008539e-01],\n",
       "       [ 9.85322225e-01,  1.05744600e+00,  1.02392128e+00],\n",
       "       [-2.15555935e+00, -2.03880507e+00, -2.04169707e+00],\n",
       "       [ 2.85096205e-01,  2.50121599e-01,  3.51526550e-01],\n",
       "       [ 2.70967321e-01,  3.66409447e-01,  3.85628120e-01],\n",
       "       [-1.18072891e+00, -1.22593758e+00, -1.24483089e+00],\n",
       "       [ 9.94113531e-01,  1.17054788e+00,  1.07276083e+00],\n",
       "       [ 7.35022667e-01,  6.93289808e-01,  7.84841902e-01],\n",
       "       [-2.29082011e+00, -2.24143266e+00, -2.21544845e+00],\n",
       "       [-2.21044246e+00, -2.19345148e+00, -2.13169614e+00],\n",
       "       [-1.76623011e+00, -1.87485463e+00, -1.85526801e+00],\n",
       "       [ 1.37038092e+00,  1.53547070e+00,  1.47534866e+00],\n",
       "       [ 2.68266645e-01,  2.50377970e-01,  3.20423324e-01],\n",
       "       [ 3.42553667e-01,  2.94344334e-01,  3.67516083e-01],\n",
       "       [ 5.56495878e-01,  5.59797731e-01,  4.29783528e-01],\n",
       "       [ 4.71783897e-01,  5.24562911e-01,  5.80176376e-01],\n",
       "       [ 1.33892208e+00,  1.33010267e+00,  1.42707023e+00],\n",
       "       [-1.67091859e-01, -7.94967052e-02, -9.45287071e-02],\n",
       "       [ 6.86292735e-01,  8.36339791e-01,  7.88525790e-01],\n",
       "       [-1.32233172e+00, -1.22950437e+00, -1.23958318e+00],\n",
       "       [-1.33057439e-01, -2.03368652e-01, -1.70411895e-01],\n",
       "       [-1.57062356e+00, -1.63947504e+00, -1.57740536e+00],\n",
       "       [ 2.47291629e-01,  1.58684305e-01,  1.27563312e-01],\n",
       "       [ 6.42775281e-01,  6.18038727e-01,  5.32210218e-01],\n",
       "       [ 1.27838619e+00,  1.35966746e+00,  1.39490575e+00],\n",
       "       [-6.78054609e-01, -6.99296996e-01, -7.31072626e-01],\n",
       "       [-1.14239359e-02,  1.58906928e-02,  7.97215770e-02],\n",
       "       [ 8.74238781e-01,  8.05182015e-01,  7.30942491e-01],\n",
       "       [ 7.48710024e-01,  7.19544179e-01,  7.80345609e-01],\n",
       "       [-2.81817907e-01, -2.81678759e-01, -2.74275546e-01],\n",
       "       [-1.90012049e-01, -2.17578568e-01, -2.25123713e-01],\n",
       "       [ 1.13107050e+00,  1.09873665e+00,  9.08503394e-01],\n",
       "       [-4.75037755e-01, -5.28591313e-01, -5.70999207e-01],\n",
       "       [ 7.36025916e-01,  8.61190345e-01,  8.30497702e-01],\n",
       "       [ 1.30681730e-01,  9.33719516e-02,  1.86020007e-01],\n",
       "       [-5.49010802e-01, -5.17121827e-01, -4.87309107e-01],\n",
       "       [-1.09513878e+00, -1.15348667e+00, -1.08819251e+00],\n",
       "       [-1.20076199e+00, -1.17298579e+00, -1.14109166e+00],\n",
       "       [-3.49761650e-01, -4.45245882e-01, -6.05974175e-01],\n",
       "       [ 7.36906518e-01,  6.58117214e-01,  5.25340135e-01]])"
      ]
     },
     "execution_count": 25,
     "metadata": {},
     "output_type": "execute_result"
    }
   ],
   "source": [
    "x_train"
   ]
  },
  {
   "cell_type": "code",
   "execution_count": 26,
   "id": "c4103e79",
   "metadata": {},
   "outputs": [
    {
     "data": {
      "text/plain": [
       "array([ 30, 192,  42,  62, 106,  93, 143, 216, 165,  87, 183,  20, 113,\n",
       "       245,  41,  37, 213,  88, 214,   0,  52, 170,  79,  98, 181,   9,\n",
       "        97, 212, 238, 158, 172, 132, 129, 236, 171, 130,  80, 233, 228,\n",
       "       219, 205,  96, 142, 191,  53, 218, 203, 232,  86, 108, 145, 127,\n",
       "        64,  83, 182,  21, 133, 196, 157, 176, 231,  70,  66, 103,  78,\n",
       "       102, 111,  22, 225, 138,  17,  28, 239,  13, 137, 104,   5, 166,\n",
       "        95,   4, 190, 204, 110, 155, 131, 151, 119, 227,  29,  84,  59,\n",
       "       134, 215, 118, 120,  63,  16, 101, 208, 211,   1, 234, 202,  27,\n",
       "       117,  89,  75,  47,  10,  56, 210,  19, 136, 153,  33, 229, 185,\n",
       "        15,  11,  18, 246, 139, 146, 140, 169, 242,  92, 206,  38,  81,\n",
       "        23, 121, 154, 240,  50, 107, 175, 193,  77,  69, 201,  55, 207,\n",
       "       114,  57,  39,  36,  49, 159], dtype=int64)"
      ]
     },
     "execution_count": 26,
     "metadata": {},
     "output_type": "execute_result"
    }
   ],
   "source": [
    "y_train"
   ]
  },
  {
   "cell_type": "code",
   "execution_count": 27,
   "id": "ce820197",
   "metadata": {},
   "outputs": [],
   "source": [
    "from sklearn.linear_model import LinearRegression"
   ]
  },
  {
   "cell_type": "code",
   "execution_count": 28,
   "id": "62679cfc",
   "metadata": {},
   "outputs": [],
   "source": [
    "model=LinearRegression()"
   ]
  },
  {
   "cell_type": "code",
   "execution_count": 29,
   "id": "3f7cabc4",
   "metadata": {},
   "outputs": [
    {
     "data": {
      "text/html": [
       "<style>#sk-container-id-1 {color: black;background-color: white;}#sk-container-id-1 pre{padding: 0;}#sk-container-id-1 div.sk-toggleable {background-color: white;}#sk-container-id-1 label.sk-toggleable__label {cursor: pointer;display: block;width: 100%;margin-bottom: 0;padding: 0.3em;box-sizing: border-box;text-align: center;}#sk-container-id-1 label.sk-toggleable__label-arrow:before {content: \"▸\";float: left;margin-right: 0.25em;color: #696969;}#sk-container-id-1 label.sk-toggleable__label-arrow:hover:before {color: black;}#sk-container-id-1 div.sk-estimator:hover label.sk-toggleable__label-arrow:before {color: black;}#sk-container-id-1 div.sk-toggleable__content {max-height: 0;max-width: 0;overflow: hidden;text-align: left;background-color: #f0f8ff;}#sk-container-id-1 div.sk-toggleable__content pre {margin: 0.2em;color: black;border-radius: 0.25em;background-color: #f0f8ff;}#sk-container-id-1 input.sk-toggleable__control:checked~div.sk-toggleable__content {max-height: 200px;max-width: 100%;overflow: auto;}#sk-container-id-1 input.sk-toggleable__control:checked~label.sk-toggleable__label-arrow:before {content: \"▾\";}#sk-container-id-1 div.sk-estimator input.sk-toggleable__control:checked~label.sk-toggleable__label {background-color: #d4ebff;}#sk-container-id-1 div.sk-label input.sk-toggleable__control:checked~label.sk-toggleable__label {background-color: #d4ebff;}#sk-container-id-1 input.sk-hidden--visually {border: 0;clip: rect(1px 1px 1px 1px);clip: rect(1px, 1px, 1px, 1px);height: 1px;margin: -1px;overflow: hidden;padding: 0;position: absolute;width: 1px;}#sk-container-id-1 div.sk-estimator {font-family: monospace;background-color: #f0f8ff;border: 1px dotted black;border-radius: 0.25em;box-sizing: border-box;margin-bottom: 0.5em;}#sk-container-id-1 div.sk-estimator:hover {background-color: #d4ebff;}#sk-container-id-1 div.sk-parallel-item::after {content: \"\";width: 100%;border-bottom: 1px solid gray;flex-grow: 1;}#sk-container-id-1 div.sk-label:hover label.sk-toggleable__label {background-color: #d4ebff;}#sk-container-id-1 div.sk-serial::before {content: \"\";position: absolute;border-left: 1px solid gray;box-sizing: border-box;top: 0;bottom: 0;left: 50%;z-index: 0;}#sk-container-id-1 div.sk-serial {display: flex;flex-direction: column;align-items: center;background-color: white;padding-right: 0.2em;padding-left: 0.2em;position: relative;}#sk-container-id-1 div.sk-item {position: relative;z-index: 1;}#sk-container-id-1 div.sk-parallel {display: flex;align-items: stretch;justify-content: center;background-color: white;position: relative;}#sk-container-id-1 div.sk-item::before, #sk-container-id-1 div.sk-parallel-item::before {content: \"\";position: absolute;border-left: 1px solid gray;box-sizing: border-box;top: 0;bottom: 0;left: 50%;z-index: -1;}#sk-container-id-1 div.sk-parallel-item {display: flex;flex-direction: column;z-index: 1;position: relative;background-color: white;}#sk-container-id-1 div.sk-parallel-item:first-child::after {align-self: flex-end;width: 50%;}#sk-container-id-1 div.sk-parallel-item:last-child::after {align-self: flex-start;width: 50%;}#sk-container-id-1 div.sk-parallel-item:only-child::after {width: 0;}#sk-container-id-1 div.sk-dashed-wrapped {border: 1px dashed gray;margin: 0 0.4em 0.5em 0.4em;box-sizing: border-box;padding-bottom: 0.4em;background-color: white;}#sk-container-id-1 div.sk-label label {font-family: monospace;font-weight: bold;display: inline-block;line-height: 1.2em;}#sk-container-id-1 div.sk-label-container {text-align: center;}#sk-container-id-1 div.sk-container {/* jupyter's `normalize.less` sets `[hidden] { display: none; }` but bootstrap.min.css set `[hidden] { display: none !important; }` so we also need the `!important` here to be able to override the default hidden behavior on the sphinx rendered scikit-learn.org. See: https://github.com/scikit-learn/scikit-learn/issues/21755 */display: inline-block !important;position: relative;}#sk-container-id-1 div.sk-text-repr-fallback {display: none;}</style><div id=\"sk-container-id-1\" class=\"sk-top-container\"><div class=\"sk-text-repr-fallback\"><pre>LinearRegression()</pre><b>In a Jupyter environment, please rerun this cell to show the HTML representation or trust the notebook. <br />On GitHub, the HTML representation is unable to render, please try loading this page with nbviewer.org.</b></div><div class=\"sk-container\" hidden><div class=\"sk-item\"><div class=\"sk-estimator sk-toggleable\"><input class=\"sk-toggleable__control sk-hidden--visually\" id=\"sk-estimator-id-1\" type=\"checkbox\" checked><label for=\"sk-estimator-id-1\" class=\"sk-toggleable__label sk-toggleable__label-arrow\">LinearRegression</label><div class=\"sk-toggleable__content\"><pre>LinearRegression()</pre></div></div></div></div></div>"
      ],
      "text/plain": [
       "LinearRegression()"
      ]
     },
     "execution_count": 29,
     "metadata": {},
     "output_type": "execute_result"
    }
   ],
   "source": [
    "model.fit(x_train,y_train)"
   ]
  },
  {
   "cell_type": "code",
   "execution_count": 30,
   "id": "3671e6b7",
   "metadata": {},
   "outputs": [],
   "source": [
    "y_pred=model.predict(x_test)"
   ]
  },
  {
   "cell_type": "code",
   "execution_count": 31,
   "id": "0148c828",
   "metadata": {},
   "outputs": [],
   "source": [
    "x_pred=model.predict(x_train)"
   ]
  },
  {
   "cell_type": "code",
   "execution_count": 32,
   "id": "a88b7c08",
   "metadata": {},
   "outputs": [],
   "source": [
    "from sklearn.metrics import r2_score"
   ]
  },
  {
   "cell_type": "code",
   "execution_count": 33,
   "id": "8d21de18",
   "metadata": {},
   "outputs": [
    {
     "name": "stdout",
     "output_type": "stream",
     "text": [
      "the accuracy score for the linear-regression model for the prediction of nifty is: 0.8894022535647461\n"
     ]
    }
   ],
   "source": [
    "print(\"the accuracy score for the linear-regression model for the prediction of nifty is:\",r2_score(y_test,y_pred))"
   ]
  },
  {
   "cell_type": "code",
   "execution_count": null,
   "id": "1fe4fed4",
   "metadata": {},
   "outputs": [],
   "source": []
  },
  {
   "cell_type": "code",
   "execution_count": null,
   "id": "7ce4a86a",
   "metadata": {},
   "outputs": [],
   "source": []
  }
 ],
 "metadata": {
  "kernelspec": {
   "display_name": "Python 3 (ipykernel)",
   "language": "python",
   "name": "python3"
  },
  "language_info": {
   "codemirror_mode": {
    "name": "ipython",
    "version": 3
   },
   "file_extension": ".py",
   "mimetype": "text/x-python",
   "name": "python",
   "nbconvert_exporter": "python",
   "pygments_lexer": "ipython3",
   "version": "3.10.8"
  }
 },
 "nbformat": 4,
 "nbformat_minor": 5
}
